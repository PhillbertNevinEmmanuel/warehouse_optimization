{
 "cells": [
  {
   "cell_type": "markdown",
   "id": "e9adfda9-f739-474d-b3b3-219d8a966da3",
   "metadata": {
    "tags": []
   },
   "source": [
    "<h2>Cleaning and separating the table into two different dataframe to clean it better</h2>"
   ]
  },
  {
   "cell_type": "code",
   "execution_count": 103,
   "id": "f36a9663-b96a-435f-ab17-8176b579d12a",
   "metadata": {},
   "outputs": [],
   "source": [
    "import pandas as pd\n",
    "import numpy as np\n",
    "pd.options.display.float_format = \"{:,.1f}\".format\n",
    "pd.set_option('display.max_columns', None)"
   ]
  },
  {
   "cell_type": "code",
   "execution_count": 104,
   "id": "8f335d64-a675-423a-99e5-6b90ba672599",
   "metadata": {},
   "outputs": [
    {
     "name": "stderr",
     "output_type": "stream",
     "text": [
      "D:\\Anaconda\\Lib\\site-packages\\openpyxl\\worksheet\\_read_only.py:81: UserWarning:\n",
      "\n",
      "Unknown extension is not supported and will be removed\n",
      "\n"
     ]
    },
    {
     "data": {
      "text/html": [
       "<div>\n",
       "<style scoped>\n",
       "    .dataframe tbody tr th:only-of-type {\n",
       "        vertical-align: middle;\n",
       "    }\n",
       "\n",
       "    .dataframe tbody tr th {\n",
       "        vertical-align: top;\n",
       "    }\n",
       "\n",
       "    .dataframe thead th {\n",
       "        text-align: right;\n",
       "    }\n",
       "</style>\n",
       "<table border=\"1\" class=\"dataframe\">\n",
       "  <thead>\n",
       "    <tr style=\"text-align: right;\">\n",
       "      <th></th>\n",
       "      <th>Case</th>\n",
       "      <th>DEMAND</th>\n",
       "      <th>KOTA</th>\n",
       "      <th>JENIS_ITEM</th>\n",
       "      <th>Unnamed: 4</th>\n",
       "      <th>GUDANG</th>\n",
       "      <th>BIAYA HANDLING @ CARTON</th>\n",
       "      <th>ONGKIR-BDG @ CARTON</th>\n",
       "      <th>ONGKIR-YOGYA @ CARTON</th>\n",
       "      <th>ONGKIR-MLG @ CARTON</th>\n",
       "      <th>ONGKIR-JKT @ CARTON</th>\n",
       "      <th>INDEX_MARGIN AA</th>\n",
       "      <th>INDEX_MARGIN BB</th>\n",
       "      <th>INDEX_MARGIN_CC</th>\n",
       "      <th>Capacity  AA</th>\n",
       "      <th>Capacity BB</th>\n",
       "      <th>Capacity  CC</th>\n",
       "    </tr>\n",
       "  </thead>\n",
       "  <tbody>\n",
       "    <tr>\n",
       "      <th>0</th>\n",
       "      <td>1</td>\n",
       "      <td>20000</td>\n",
       "      <td>BANDUNG</td>\n",
       "      <td>AA</td>\n",
       "      <td>NaN</td>\n",
       "      <td>PLANT1</td>\n",
       "      <td>1000</td>\n",
       "      <td>2500</td>\n",
       "      <td>1,500.0</td>\n",
       "      <td>2,000.0</td>\n",
       "      <td>2,000.0</td>\n",
       "      <td>50,000.0</td>\n",
       "      <td>45,000.0</td>\n",
       "      <td>60,000.0</td>\n",
       "      <td>15,000.0</td>\n",
       "      <td>20,000.0</td>\n",
       "      <td>12,000.0</td>\n",
       "    </tr>\n",
       "    <tr>\n",
       "      <th>1</th>\n",
       "      <td>2</td>\n",
       "      <td>12000</td>\n",
       "      <td>BANDUNG</td>\n",
       "      <td>BB</td>\n",
       "      <td>NaN</td>\n",
       "      <td>PLANT2</td>\n",
       "      <td>1100</td>\n",
       "      <td>2400</td>\n",
       "      <td>1,000.0</td>\n",
       "      <td>2,000.0</td>\n",
       "      <td>2,500.0</td>\n",
       "      <td>50,000.0</td>\n",
       "      <td>50,000.0</td>\n",
       "      <td>70,000.0</td>\n",
       "      <td>22,000.0</td>\n",
       "      <td>15,000.0</td>\n",
       "      <td>15,000.0</td>\n",
       "    </tr>\n",
       "    <tr>\n",
       "      <th>2</th>\n",
       "      <td>3</td>\n",
       "      <td>12000</td>\n",
       "      <td>BANDUNG</td>\n",
       "      <td>CC</td>\n",
       "      <td>NaN</td>\n",
       "      <td>PLANT3</td>\n",
       "      <td>1200</td>\n",
       "      <td>1000</td>\n",
       "      <td>3,000.0</td>\n",
       "      <td>2,000.0</td>\n",
       "      <td>3,000.0</td>\n",
       "      <td>60,000.0</td>\n",
       "      <td>45,000.0</td>\n",
       "      <td>55,000.0</td>\n",
       "      <td>20,000.0</td>\n",
       "      <td>10,000.0</td>\n",
       "      <td>27,000.0</td>\n",
       "    </tr>\n",
       "    <tr>\n",
       "      <th>3</th>\n",
       "      <td>4</td>\n",
       "      <td>15000</td>\n",
       "      <td>YOGYA</td>\n",
       "      <td>AA</td>\n",
       "      <td>NaN</td>\n",
       "      <td>NaN</td>\n",
       "      <td>NaN</td>\n",
       "      <td>NaN</td>\n",
       "      <td>NaN</td>\n",
       "      <td>NaN</td>\n",
       "      <td>NaN</td>\n",
       "      <td>NaN</td>\n",
       "      <td>NaN</td>\n",
       "      <td>NaN</td>\n",
       "      <td>NaN</td>\n",
       "      <td>NaN</td>\n",
       "      <td>NaN</td>\n",
       "    </tr>\n",
       "    <tr>\n",
       "      <th>4</th>\n",
       "      <td>5</td>\n",
       "      <td>11000</td>\n",
       "      <td>YOGYA</td>\n",
       "      <td>BB</td>\n",
       "      <td>NaN</td>\n",
       "      <td>NaN</td>\n",
       "      <td>NaN</td>\n",
       "      <td>NaN</td>\n",
       "      <td>NaN</td>\n",
       "      <td>NaN</td>\n",
       "      <td>NaN</td>\n",
       "      <td>NaN</td>\n",
       "      <td>NaN</td>\n",
       "      <td>NaN</td>\n",
       "      <td>NaN</td>\n",
       "      <td>NaN</td>\n",
       "      <td>NaN</td>\n",
       "    </tr>\n",
       "    <tr>\n",
       "      <th>5</th>\n",
       "      <td>6</td>\n",
       "      <td>10500</td>\n",
       "      <td>YOGYA</td>\n",
       "      <td>CC</td>\n",
       "      <td>NaN</td>\n",
       "      <td>NaN</td>\n",
       "      <td>NaN</td>\n",
       "      <td>NaN</td>\n",
       "      <td>NaN</td>\n",
       "      <td>NaN</td>\n",
       "      <td>NaN</td>\n",
       "      <td>NaN</td>\n",
       "      <td>NaN</td>\n",
       "      <td>NaN</td>\n",
       "      <td>NaN</td>\n",
       "      <td>NaN</td>\n",
       "      <td>NaN</td>\n",
       "    </tr>\n",
       "    <tr>\n",
       "      <th>6</th>\n",
       "      <td>7</td>\n",
       "      <td>15000</td>\n",
       "      <td>MALANG</td>\n",
       "      <td>AA</td>\n",
       "      <td>NaN</td>\n",
       "      <td>NaN</td>\n",
       "      <td>NaN</td>\n",
       "      <td>NaN</td>\n",
       "      <td>NaN</td>\n",
       "      <td>NaN</td>\n",
       "      <td>NaN</td>\n",
       "      <td>NaN</td>\n",
       "      <td>NaN</td>\n",
       "      <td>NaN</td>\n",
       "      <td>NaN</td>\n",
       "      <td>NaN</td>\n",
       "      <td>NaN</td>\n",
       "    </tr>\n",
       "    <tr>\n",
       "      <th>7</th>\n",
       "      <td>8</td>\n",
       "      <td>8500</td>\n",
       "      <td>MALANG</td>\n",
       "      <td>BB</td>\n",
       "      <td>NaN</td>\n",
       "      <td>NaN</td>\n",
       "      <td>NaN</td>\n",
       "      <td>NaN</td>\n",
       "      <td>NaN</td>\n",
       "      <td>NaN</td>\n",
       "      <td>NaN</td>\n",
       "      <td>NaN</td>\n",
       "      <td>NaN</td>\n",
       "      <td>NaN</td>\n",
       "      <td>NaN</td>\n",
       "      <td>NaN</td>\n",
       "      <td>NaN</td>\n",
       "    </tr>\n",
       "    <tr>\n",
       "      <th>8</th>\n",
       "      <td>9</td>\n",
       "      <td>9000</td>\n",
       "      <td>MALANG</td>\n",
       "      <td>CC</td>\n",
       "      <td>NaN</td>\n",
       "      <td>NaN</td>\n",
       "      <td>NaN</td>\n",
       "      <td>NaN</td>\n",
       "      <td>NaN</td>\n",
       "      <td>NaN</td>\n",
       "      <td>NaN</td>\n",
       "      <td>NaN</td>\n",
       "      <td>NaN</td>\n",
       "      <td>NaN</td>\n",
       "      <td>NaN</td>\n",
       "      <td>NaN</td>\n",
       "      <td>NaN</td>\n",
       "    </tr>\n",
       "    <tr>\n",
       "      <th>9</th>\n",
       "      <td>10</td>\n",
       "      <td>12000</td>\n",
       "      <td>JAKARTA</td>\n",
       "      <td>AA</td>\n",
       "      <td>NaN</td>\n",
       "      <td>NaN</td>\n",
       "      <td>NaN</td>\n",
       "      <td>NaN</td>\n",
       "      <td>NaN</td>\n",
       "      <td>NaN</td>\n",
       "      <td>NaN</td>\n",
       "      <td>NaN</td>\n",
       "      <td>NaN</td>\n",
       "      <td>NaN</td>\n",
       "      <td>NaN</td>\n",
       "      <td>NaN</td>\n",
       "      <td>NaN</td>\n",
       "    </tr>\n",
       "    <tr>\n",
       "      <th>10</th>\n",
       "      <td>11</td>\n",
       "      <td>7000</td>\n",
       "      <td>JAKARTA</td>\n",
       "      <td>BB</td>\n",
       "      <td>NaN</td>\n",
       "      <td>NaN</td>\n",
       "      <td>NaN</td>\n",
       "      <td>NaN</td>\n",
       "      <td>NaN</td>\n",
       "      <td>NaN</td>\n",
       "      <td>NaN</td>\n",
       "      <td>NaN</td>\n",
       "      <td>NaN</td>\n",
       "      <td>NaN</td>\n",
       "      <td>NaN</td>\n",
       "      <td>NaN</td>\n",
       "      <td>NaN</td>\n",
       "    </tr>\n",
       "    <tr>\n",
       "      <th>11</th>\n",
       "      <td>12</td>\n",
       "      <td>10000</td>\n",
       "      <td>JAKARTA</td>\n",
       "      <td>CC</td>\n",
       "      <td>NaN</td>\n",
       "      <td>NaN</td>\n",
       "      <td>Nett Margin:</td>\n",
       "      <td>Index Margin - Biaya handling - Ongkir</td>\n",
       "      <td>NaN</td>\n",
       "      <td>NaN</td>\n",
       "      <td>NaN</td>\n",
       "      <td>NaN</td>\n",
       "      <td>NaN</td>\n",
       "      <td>NaN</td>\n",
       "      <td>NaN</td>\n",
       "      <td>NaN</td>\n",
       "      <td>NaN</td>\n",
       "    </tr>\n",
       "    <tr>\n",
       "      <th>12</th>\n",
       "      <td>TTL</td>\n",
       "      <td>142000</td>\n",
       "      <td>142000</td>\n",
       "      <td>NaN</td>\n",
       "      <td>NaN</td>\n",
       "      <td>NaN</td>\n",
       "      <td>NaN</td>\n",
       "      <td>NaN</td>\n",
       "      <td>NaN</td>\n",
       "      <td>NaN</td>\n",
       "      <td>NaN</td>\n",
       "      <td>NaN</td>\n",
       "      <td>NaN</td>\n",
       "      <td>NaN</td>\n",
       "      <td>NaN</td>\n",
       "      <td>NaN</td>\n",
       "      <td>NaN</td>\n",
       "    </tr>\n",
       "  </tbody>\n",
       "</table>\n",
       "</div>"
      ],
      "text/plain": [
       "   Case  DEMAND     KOTA JENIS_ITEM  Unnamed: 4  GUDANG  \\\n",
       "0     1   20000  BANDUNG         AA         NaN  PLANT1   \n",
       "1     2   12000  BANDUNG         BB         NaN  PLANT2   \n",
       "2     3   12000  BANDUNG         CC         NaN  PLANT3   \n",
       "3     4   15000    YOGYA         AA         NaN     NaN   \n",
       "4     5   11000    YOGYA         BB         NaN     NaN   \n",
       "5     6   10500    YOGYA         CC         NaN     NaN   \n",
       "6     7   15000   MALANG         AA         NaN     NaN   \n",
       "7     8    8500   MALANG         BB         NaN     NaN   \n",
       "8     9    9000   MALANG         CC         NaN     NaN   \n",
       "9    10   12000  JAKARTA         AA         NaN     NaN   \n",
       "10   11    7000  JAKARTA         BB         NaN     NaN   \n",
       "11   12   10000  JAKARTA         CC         NaN     NaN   \n",
       "12  TTL  142000   142000        NaN         NaN     NaN   \n",
       "\n",
       "   BIAYA HANDLING @ CARTON                     ONGKIR-BDG @ CARTON  \\\n",
       "0                     1000                                    2500   \n",
       "1                     1100                                    2400   \n",
       "2                     1200                                    1000   \n",
       "3                      NaN                                     NaN   \n",
       "4                      NaN                                     NaN   \n",
       "5                      NaN                                     NaN   \n",
       "6                      NaN                                     NaN   \n",
       "7                      NaN                                     NaN   \n",
       "8                      NaN                                     NaN   \n",
       "9                      NaN                                     NaN   \n",
       "10                     NaN                                     NaN   \n",
       "11            Nett Margin:  Index Margin - Biaya handling - Ongkir   \n",
       "12                     NaN                                     NaN   \n",
       "\n",
       "    ONGKIR-YOGYA @ CARTON  ONGKIR-MLG @ CARTON  ONGKIR-JKT @ CARTON  \\\n",
       "0                 1,500.0              2,000.0              2,000.0   \n",
       "1                 1,000.0              2,000.0              2,500.0   \n",
       "2                 3,000.0              2,000.0              3,000.0   \n",
       "3                     NaN                  NaN                  NaN   \n",
       "4                     NaN                  NaN                  NaN   \n",
       "5                     NaN                  NaN                  NaN   \n",
       "6                     NaN                  NaN                  NaN   \n",
       "7                     NaN                  NaN                  NaN   \n",
       "8                     NaN                  NaN                  NaN   \n",
       "9                     NaN                  NaN                  NaN   \n",
       "10                    NaN                  NaN                  NaN   \n",
       "11                    NaN                  NaN                  NaN   \n",
       "12                    NaN                  NaN                  NaN   \n",
       "\n",
       "    INDEX_MARGIN AA  INDEX_MARGIN BB  INDEX_MARGIN_CC  Capacity  AA  \\\n",
       "0          50,000.0         45,000.0         60,000.0      15,000.0   \n",
       "1          50,000.0         50,000.0         70,000.0      22,000.0   \n",
       "2          60,000.0         45,000.0         55,000.0      20,000.0   \n",
       "3               NaN              NaN              NaN           NaN   \n",
       "4               NaN              NaN              NaN           NaN   \n",
       "5               NaN              NaN              NaN           NaN   \n",
       "6               NaN              NaN              NaN           NaN   \n",
       "7               NaN              NaN              NaN           NaN   \n",
       "8               NaN              NaN              NaN           NaN   \n",
       "9               NaN              NaN              NaN           NaN   \n",
       "10              NaN              NaN              NaN           NaN   \n",
       "11              NaN              NaN              NaN           NaN   \n",
       "12              NaN              NaN              NaN           NaN   \n",
       "\n",
       "    Capacity BB  Capacity  CC  \n",
       "0      20,000.0      12,000.0  \n",
       "1      15,000.0      15,000.0  \n",
       "2      10,000.0      27,000.0  \n",
       "3           NaN           NaN  \n",
       "4           NaN           NaN  \n",
       "5           NaN           NaN  \n",
       "6           NaN           NaN  \n",
       "7           NaN           NaN  \n",
       "8           NaN           NaN  \n",
       "9           NaN           NaN  \n",
       "10          NaN           NaN  \n",
       "11          NaN           NaN  \n",
       "12          NaN           NaN  "
      ]
     },
     "execution_count": 104,
     "metadata": {},
     "output_type": "execute_result"
    }
   ],
   "source": [
    "#loading csv data into dataframe\n",
    "\n",
    "df_raw = pd.read_excel(r'C:\\Users\\Phillbert Nevin E\\Documents\\Python\\Gudang2Go Technical Test Python\\Optimization Plant.xlsx')\n",
    "df = pd.DataFrame(df_raw)\n",
    "df"
   ]
  },
  {
   "cell_type": "code",
   "execution_count": 105,
   "id": "759b3287-cf9d-46e5-b7dd-0c10f501f757",
   "metadata": {},
   "outputs": [],
   "source": [
    "df.drop('Unnamed: 4', axis=1, inplace = True)"
   ]
  },
  {
   "cell_type": "code",
   "execution_count": 106,
   "id": "c58ce0e9-ddd5-499b-a10e-cb6cd051358f",
   "metadata": {},
   "outputs": [
    {
     "data": {
      "text/plain": [
       "Index(['Case', 'DEMAND', 'KOTA', 'JENIS_ITEM', 'GUDANG',\n",
       "       'BIAYA HANDLING @ CARTON', 'ONGKIR-BDG @ CARTON',\n",
       "       'ONGKIR-YOGYA @ CARTON', 'ONGKIR-MLG @ CARTON', 'ONGKIR-JKT @ CARTON',\n",
       "       'INDEX_MARGIN AA', 'INDEX_MARGIN BB', 'INDEX_MARGIN_CC', 'Capacity  AA',\n",
       "       'Capacity BB', 'Capacity  CC'],\n",
       "      dtype='object')"
      ]
     },
     "execution_count": 106,
     "metadata": {},
     "output_type": "execute_result"
    }
   ],
   "source": [
    "df.columns"
   ]
  },
  {
   "cell_type": "code",
   "execution_count": 107,
   "id": "ed70a518-3c30-4ee6-9cb4-ff8a21236cd5",
   "metadata": {},
   "outputs": [],
   "source": [
    "separator_index = df.columns.get_loc('GUDANG')"
   ]
  },
  {
   "cell_type": "code",
   "execution_count": 108,
   "id": "d04048aa-c0c0-4f1e-8cdc-846c57e39aea",
   "metadata": {},
   "outputs": [],
   "source": [
    "df1 = df.iloc[:, :separator_index].reset_index(drop=True)\n",
    "df2 = df.iloc[:, separator_index:].reset_index(drop=True)"
   ]
  },
  {
   "cell_type": "code",
   "execution_count": 109,
   "id": "e2178741-170b-4918-aa32-b57de245a7aa",
   "metadata": {},
   "outputs": [
    {
     "data": {
      "text/html": [
       "<div>\n",
       "<style scoped>\n",
       "    .dataframe tbody tr th:only-of-type {\n",
       "        vertical-align: middle;\n",
       "    }\n",
       "\n",
       "    .dataframe tbody tr th {\n",
       "        vertical-align: top;\n",
       "    }\n",
       "\n",
       "    .dataframe thead th {\n",
       "        text-align: right;\n",
       "    }\n",
       "</style>\n",
       "<table border=\"1\" class=\"dataframe\">\n",
       "  <thead>\n",
       "    <tr style=\"text-align: right;\">\n",
       "      <th></th>\n",
       "      <th>Case</th>\n",
       "      <th>DEMAND</th>\n",
       "      <th>KOTA</th>\n",
       "      <th>JENIS_ITEM</th>\n",
       "    </tr>\n",
       "  </thead>\n",
       "  <tbody>\n",
       "    <tr>\n",
       "      <th>0</th>\n",
       "      <td>1</td>\n",
       "      <td>20000</td>\n",
       "      <td>BANDUNG</td>\n",
       "      <td>AA</td>\n",
       "    </tr>\n",
       "    <tr>\n",
       "      <th>1</th>\n",
       "      <td>2</td>\n",
       "      <td>12000</td>\n",
       "      <td>BANDUNG</td>\n",
       "      <td>BB</td>\n",
       "    </tr>\n",
       "    <tr>\n",
       "      <th>2</th>\n",
       "      <td>3</td>\n",
       "      <td>12000</td>\n",
       "      <td>BANDUNG</td>\n",
       "      <td>CC</td>\n",
       "    </tr>\n",
       "    <tr>\n",
       "      <th>3</th>\n",
       "      <td>4</td>\n",
       "      <td>15000</td>\n",
       "      <td>YOGYA</td>\n",
       "      <td>AA</td>\n",
       "    </tr>\n",
       "    <tr>\n",
       "      <th>4</th>\n",
       "      <td>5</td>\n",
       "      <td>11000</td>\n",
       "      <td>YOGYA</td>\n",
       "      <td>BB</td>\n",
       "    </tr>\n",
       "    <tr>\n",
       "      <th>5</th>\n",
       "      <td>6</td>\n",
       "      <td>10500</td>\n",
       "      <td>YOGYA</td>\n",
       "      <td>CC</td>\n",
       "    </tr>\n",
       "    <tr>\n",
       "      <th>6</th>\n",
       "      <td>7</td>\n",
       "      <td>15000</td>\n",
       "      <td>MALANG</td>\n",
       "      <td>AA</td>\n",
       "    </tr>\n",
       "    <tr>\n",
       "      <th>7</th>\n",
       "      <td>8</td>\n",
       "      <td>8500</td>\n",
       "      <td>MALANG</td>\n",
       "      <td>BB</td>\n",
       "    </tr>\n",
       "    <tr>\n",
       "      <th>8</th>\n",
       "      <td>9</td>\n",
       "      <td>9000</td>\n",
       "      <td>MALANG</td>\n",
       "      <td>CC</td>\n",
       "    </tr>\n",
       "    <tr>\n",
       "      <th>9</th>\n",
       "      <td>10</td>\n",
       "      <td>12000</td>\n",
       "      <td>JAKARTA</td>\n",
       "      <td>AA</td>\n",
       "    </tr>\n",
       "    <tr>\n",
       "      <th>10</th>\n",
       "      <td>11</td>\n",
       "      <td>7000</td>\n",
       "      <td>JAKARTA</td>\n",
       "      <td>BB</td>\n",
       "    </tr>\n",
       "    <tr>\n",
       "      <th>11</th>\n",
       "      <td>12</td>\n",
       "      <td>10000</td>\n",
       "      <td>JAKARTA</td>\n",
       "      <td>CC</td>\n",
       "    </tr>\n",
       "    <tr>\n",
       "      <th>12</th>\n",
       "      <td>TTL</td>\n",
       "      <td>142000</td>\n",
       "      <td>142000</td>\n",
       "      <td>NaN</td>\n",
       "    </tr>\n",
       "  </tbody>\n",
       "</table>\n",
       "</div>"
      ],
      "text/plain": [
       "   Case  DEMAND     KOTA JENIS_ITEM\n",
       "0     1   20000  BANDUNG         AA\n",
       "1     2   12000  BANDUNG         BB\n",
       "2     3   12000  BANDUNG         CC\n",
       "3     4   15000    YOGYA         AA\n",
       "4     5   11000    YOGYA         BB\n",
       "5     6   10500    YOGYA         CC\n",
       "6     7   15000   MALANG         AA\n",
       "7     8    8500   MALANG         BB\n",
       "8     9    9000   MALANG         CC\n",
       "9    10   12000  JAKARTA         AA\n",
       "10   11    7000  JAKARTA         BB\n",
       "11   12   10000  JAKARTA         CC\n",
       "12  TTL  142000   142000        NaN"
      ]
     },
     "execution_count": 109,
     "metadata": {},
     "output_type": "execute_result"
    }
   ],
   "source": [
    "df1"
   ]
  },
  {
   "cell_type": "code",
   "execution_count": 110,
   "id": "95c2dbd6-8181-45eb-a466-98835389e4ff",
   "metadata": {
    "tags": []
   },
   "outputs": [],
   "source": [
    "df1.drop(df1.index[12:], inplace = True)"
   ]
  },
  {
   "cell_type": "code",
   "execution_count": 111,
   "id": "b22b2899-0eb9-4a10-bf0d-6c6a7674a82c",
   "metadata": {
    "tags": []
   },
   "outputs": [
    {
     "data": {
      "text/html": [
       "<div>\n",
       "<style scoped>\n",
       "    .dataframe tbody tr th:only-of-type {\n",
       "        vertical-align: middle;\n",
       "    }\n",
       "\n",
       "    .dataframe tbody tr th {\n",
       "        vertical-align: top;\n",
       "    }\n",
       "\n",
       "    .dataframe thead th {\n",
       "        text-align: right;\n",
       "    }\n",
       "</style>\n",
       "<table border=\"1\" class=\"dataframe\">\n",
       "  <thead>\n",
       "    <tr style=\"text-align: right;\">\n",
       "      <th></th>\n",
       "      <th>Case</th>\n",
       "      <th>DEMAND</th>\n",
       "      <th>KOTA</th>\n",
       "      <th>JENIS_ITEM</th>\n",
       "    </tr>\n",
       "  </thead>\n",
       "  <tbody>\n",
       "    <tr>\n",
       "      <th>0</th>\n",
       "      <td>1</td>\n",
       "      <td>20000</td>\n",
       "      <td>BANDUNG</td>\n",
       "      <td>AA</td>\n",
       "    </tr>\n",
       "    <tr>\n",
       "      <th>1</th>\n",
       "      <td>2</td>\n",
       "      <td>12000</td>\n",
       "      <td>BANDUNG</td>\n",
       "      <td>BB</td>\n",
       "    </tr>\n",
       "    <tr>\n",
       "      <th>2</th>\n",
       "      <td>3</td>\n",
       "      <td>12000</td>\n",
       "      <td>BANDUNG</td>\n",
       "      <td>CC</td>\n",
       "    </tr>\n",
       "    <tr>\n",
       "      <th>3</th>\n",
       "      <td>4</td>\n",
       "      <td>15000</td>\n",
       "      <td>YOGYA</td>\n",
       "      <td>AA</td>\n",
       "    </tr>\n",
       "    <tr>\n",
       "      <th>4</th>\n",
       "      <td>5</td>\n",
       "      <td>11000</td>\n",
       "      <td>YOGYA</td>\n",
       "      <td>BB</td>\n",
       "    </tr>\n",
       "    <tr>\n",
       "      <th>5</th>\n",
       "      <td>6</td>\n",
       "      <td>10500</td>\n",
       "      <td>YOGYA</td>\n",
       "      <td>CC</td>\n",
       "    </tr>\n",
       "    <tr>\n",
       "      <th>6</th>\n",
       "      <td>7</td>\n",
       "      <td>15000</td>\n",
       "      <td>MALANG</td>\n",
       "      <td>AA</td>\n",
       "    </tr>\n",
       "    <tr>\n",
       "      <th>7</th>\n",
       "      <td>8</td>\n",
       "      <td>8500</td>\n",
       "      <td>MALANG</td>\n",
       "      <td>BB</td>\n",
       "    </tr>\n",
       "    <tr>\n",
       "      <th>8</th>\n",
       "      <td>9</td>\n",
       "      <td>9000</td>\n",
       "      <td>MALANG</td>\n",
       "      <td>CC</td>\n",
       "    </tr>\n",
       "    <tr>\n",
       "      <th>9</th>\n",
       "      <td>10</td>\n",
       "      <td>12000</td>\n",
       "      <td>JAKARTA</td>\n",
       "      <td>AA</td>\n",
       "    </tr>\n",
       "    <tr>\n",
       "      <th>10</th>\n",
       "      <td>11</td>\n",
       "      <td>7000</td>\n",
       "      <td>JAKARTA</td>\n",
       "      <td>BB</td>\n",
       "    </tr>\n",
       "    <tr>\n",
       "      <th>11</th>\n",
       "      <td>12</td>\n",
       "      <td>10000</td>\n",
       "      <td>JAKARTA</td>\n",
       "      <td>CC</td>\n",
       "    </tr>\n",
       "  </tbody>\n",
       "</table>\n",
       "</div>"
      ],
      "text/plain": [
       "   Case  DEMAND     KOTA JENIS_ITEM\n",
       "0     1   20000  BANDUNG         AA\n",
       "1     2   12000  BANDUNG         BB\n",
       "2     3   12000  BANDUNG         CC\n",
       "3     4   15000    YOGYA         AA\n",
       "4     5   11000    YOGYA         BB\n",
       "5     6   10500    YOGYA         CC\n",
       "6     7   15000   MALANG         AA\n",
       "7     8    8500   MALANG         BB\n",
       "8     9    9000   MALANG         CC\n",
       "9    10   12000  JAKARTA         AA\n",
       "10   11    7000  JAKARTA         BB\n",
       "11   12   10000  JAKARTA         CC"
      ]
     },
     "execution_count": 111,
     "metadata": {},
     "output_type": "execute_result"
    }
   ],
   "source": [
    "#rename it for better clarity\n",
    "\n",
    "case_df = df1.copy()\n",
    "case_df"
   ]
  },
  {
   "cell_type": "code",
   "execution_count": 112,
   "id": "d8945b24-af5c-4e67-812d-c682b8875d6d",
   "metadata": {
    "tags": []
   },
   "outputs": [],
   "source": [
    "#we can sort it by jenis_item so we can categorize case_df easier in the nett margin calculation\n",
    "\n",
    "case_df.drop('Case', axis=1, inplace=True)"
   ]
  },
  {
   "cell_type": "code",
   "execution_count": 113,
   "id": "c92490ba-fe7b-4a09-9f43-9fe591eb6516",
   "metadata": {
    "tags": []
   },
   "outputs": [],
   "source": [
    "case_df.sort_values(by=['JENIS_ITEM'], inplace=True)\n",
    "case_df.reset_index(drop=True, inplace=True)"
   ]
  },
  {
   "cell_type": "code",
   "execution_count": 114,
   "id": "65e1b305-89b0-43de-a94f-4b08ea795e39",
   "metadata": {
    "tags": []
   },
   "outputs": [
    {
     "data": {
      "text/plain": [
       "Index(['DEMAND', 'KOTA', 'JENIS_ITEM'], dtype='object')"
      ]
     },
     "execution_count": 114,
     "metadata": {},
     "output_type": "execute_result"
    }
   ],
   "source": [
    "case_df.columns"
   ]
  },
  {
   "cell_type": "code",
   "execution_count": 115,
   "id": "9b99bd92-9727-457a-82ed-0766489c18ed",
   "metadata": {
    "tags": []
   },
   "outputs": [],
   "source": [
    "#standardizing column data types into float\n",
    "\n",
    "cols_to_convert = ['DEMAND']\n",
    "case_df[cols_to_convert] = case_df[cols_to_convert].astype(float)"
   ]
  },
  {
   "cell_type": "code",
   "execution_count": 116,
   "id": "c0567691-1b56-4279-b855-1dea01a7403c",
   "metadata": {
    "tags": []
   },
   "outputs": [
    {
     "data": {
      "text/html": [
       "<div>\n",
       "<style scoped>\n",
       "    .dataframe tbody tr th:only-of-type {\n",
       "        vertical-align: middle;\n",
       "    }\n",
       "\n",
       "    .dataframe tbody tr th {\n",
       "        vertical-align: top;\n",
       "    }\n",
       "\n",
       "    .dataframe thead th {\n",
       "        text-align: right;\n",
       "    }\n",
       "</style>\n",
       "<table border=\"1\" class=\"dataframe\">\n",
       "  <thead>\n",
       "    <tr style=\"text-align: right;\">\n",
       "      <th></th>\n",
       "      <th>DEMAND</th>\n",
       "      <th>KOTA</th>\n",
       "      <th>JENIS_ITEM</th>\n",
       "    </tr>\n",
       "  </thead>\n",
       "  <tbody>\n",
       "    <tr>\n",
       "      <th>0</th>\n",
       "      <td>20,000.0</td>\n",
       "      <td>BANDUNG</td>\n",
       "      <td>AA</td>\n",
       "    </tr>\n",
       "    <tr>\n",
       "      <th>1</th>\n",
       "      <td>15,000.0</td>\n",
       "      <td>YOGYA</td>\n",
       "      <td>AA</td>\n",
       "    </tr>\n",
       "    <tr>\n",
       "      <th>2</th>\n",
       "      <td>15,000.0</td>\n",
       "      <td>MALANG</td>\n",
       "      <td>AA</td>\n",
       "    </tr>\n",
       "    <tr>\n",
       "      <th>3</th>\n",
       "      <td>12,000.0</td>\n",
       "      <td>JAKARTA</td>\n",
       "      <td>AA</td>\n",
       "    </tr>\n",
       "    <tr>\n",
       "      <th>4</th>\n",
       "      <td>12,000.0</td>\n",
       "      <td>BANDUNG</td>\n",
       "      <td>BB</td>\n",
       "    </tr>\n",
       "    <tr>\n",
       "      <th>5</th>\n",
       "      <td>11,000.0</td>\n",
       "      <td>YOGYA</td>\n",
       "      <td>BB</td>\n",
       "    </tr>\n",
       "    <tr>\n",
       "      <th>6</th>\n",
       "      <td>8,500.0</td>\n",
       "      <td>MALANG</td>\n",
       "      <td>BB</td>\n",
       "    </tr>\n",
       "    <tr>\n",
       "      <th>7</th>\n",
       "      <td>7,000.0</td>\n",
       "      <td>JAKARTA</td>\n",
       "      <td>BB</td>\n",
       "    </tr>\n",
       "    <tr>\n",
       "      <th>8</th>\n",
       "      <td>12,000.0</td>\n",
       "      <td>BANDUNG</td>\n",
       "      <td>CC</td>\n",
       "    </tr>\n",
       "    <tr>\n",
       "      <th>9</th>\n",
       "      <td>10,500.0</td>\n",
       "      <td>YOGYA</td>\n",
       "      <td>CC</td>\n",
       "    </tr>\n",
       "    <tr>\n",
       "      <th>10</th>\n",
       "      <td>9,000.0</td>\n",
       "      <td>MALANG</td>\n",
       "      <td>CC</td>\n",
       "    </tr>\n",
       "    <tr>\n",
       "      <th>11</th>\n",
       "      <td>10,000.0</td>\n",
       "      <td>JAKARTA</td>\n",
       "      <td>CC</td>\n",
       "    </tr>\n",
       "  </tbody>\n",
       "</table>\n",
       "</div>"
      ],
      "text/plain": [
       "     DEMAND     KOTA JENIS_ITEM\n",
       "0  20,000.0  BANDUNG         AA\n",
       "1  15,000.0    YOGYA         AA\n",
       "2  15,000.0   MALANG         AA\n",
       "3  12,000.0  JAKARTA         AA\n",
       "4  12,000.0  BANDUNG         BB\n",
       "5  11,000.0    YOGYA         BB\n",
       "6   8,500.0   MALANG         BB\n",
       "7   7,000.0  JAKARTA         BB\n",
       "8  12,000.0  BANDUNG         CC\n",
       "9  10,500.0    YOGYA         CC\n",
       "10  9,000.0   MALANG         CC\n",
       "11 10,000.0  JAKARTA         CC"
      ]
     },
     "execution_count": 116,
     "metadata": {},
     "output_type": "execute_result"
    }
   ],
   "source": [
    "case_df"
   ]
  },
  {
   "cell_type": "code",
   "execution_count": 117,
   "id": "ccd5532d-556f-448e-90d6-58e1ba49044f",
   "metadata": {
    "tags": []
   },
   "outputs": [
    {
     "data": {
      "text/html": [
       "<div>\n",
       "<style scoped>\n",
       "    .dataframe tbody tr th:only-of-type {\n",
       "        vertical-align: middle;\n",
       "    }\n",
       "\n",
       "    .dataframe tbody tr th {\n",
       "        vertical-align: top;\n",
       "    }\n",
       "\n",
       "    .dataframe thead th {\n",
       "        text-align: right;\n",
       "    }\n",
       "</style>\n",
       "<table border=\"1\" class=\"dataframe\">\n",
       "  <thead>\n",
       "    <tr style=\"text-align: right;\">\n",
       "      <th></th>\n",
       "      <th>GUDANG</th>\n",
       "      <th>BIAYA HANDLING @ CARTON</th>\n",
       "      <th>ONGKIR-BDG @ CARTON</th>\n",
       "      <th>ONGKIR-YOGYA @ CARTON</th>\n",
       "      <th>ONGKIR-MLG @ CARTON</th>\n",
       "      <th>ONGKIR-JKT @ CARTON</th>\n",
       "      <th>INDEX_MARGIN AA</th>\n",
       "      <th>INDEX_MARGIN BB</th>\n",
       "      <th>INDEX_MARGIN_CC</th>\n",
       "      <th>Capacity  AA</th>\n",
       "      <th>Capacity BB</th>\n",
       "      <th>Capacity  CC</th>\n",
       "    </tr>\n",
       "  </thead>\n",
       "  <tbody>\n",
       "    <tr>\n",
       "      <th>0</th>\n",
       "      <td>PLANT1</td>\n",
       "      <td>1000</td>\n",
       "      <td>2500</td>\n",
       "      <td>1,500.0</td>\n",
       "      <td>2,000.0</td>\n",
       "      <td>2,000.0</td>\n",
       "      <td>50,000.0</td>\n",
       "      <td>45,000.0</td>\n",
       "      <td>60,000.0</td>\n",
       "      <td>15,000.0</td>\n",
       "      <td>20,000.0</td>\n",
       "      <td>12,000.0</td>\n",
       "    </tr>\n",
       "    <tr>\n",
       "      <th>1</th>\n",
       "      <td>PLANT2</td>\n",
       "      <td>1100</td>\n",
       "      <td>2400</td>\n",
       "      <td>1,000.0</td>\n",
       "      <td>2,000.0</td>\n",
       "      <td>2,500.0</td>\n",
       "      <td>50,000.0</td>\n",
       "      <td>50,000.0</td>\n",
       "      <td>70,000.0</td>\n",
       "      <td>22,000.0</td>\n",
       "      <td>15,000.0</td>\n",
       "      <td>15,000.0</td>\n",
       "    </tr>\n",
       "    <tr>\n",
       "      <th>2</th>\n",
       "      <td>PLANT3</td>\n",
       "      <td>1200</td>\n",
       "      <td>1000</td>\n",
       "      <td>3,000.0</td>\n",
       "      <td>2,000.0</td>\n",
       "      <td>3,000.0</td>\n",
       "      <td>60,000.0</td>\n",
       "      <td>45,000.0</td>\n",
       "      <td>55,000.0</td>\n",
       "      <td>20,000.0</td>\n",
       "      <td>10,000.0</td>\n",
       "      <td>27,000.0</td>\n",
       "    </tr>\n",
       "    <tr>\n",
       "      <th>3</th>\n",
       "      <td>NaN</td>\n",
       "      <td>NaN</td>\n",
       "      <td>NaN</td>\n",
       "      <td>NaN</td>\n",
       "      <td>NaN</td>\n",
       "      <td>NaN</td>\n",
       "      <td>NaN</td>\n",
       "      <td>NaN</td>\n",
       "      <td>NaN</td>\n",
       "      <td>NaN</td>\n",
       "      <td>NaN</td>\n",
       "      <td>NaN</td>\n",
       "    </tr>\n",
       "    <tr>\n",
       "      <th>4</th>\n",
       "      <td>NaN</td>\n",
       "      <td>NaN</td>\n",
       "      <td>NaN</td>\n",
       "      <td>NaN</td>\n",
       "      <td>NaN</td>\n",
       "      <td>NaN</td>\n",
       "      <td>NaN</td>\n",
       "      <td>NaN</td>\n",
       "      <td>NaN</td>\n",
       "      <td>NaN</td>\n",
       "      <td>NaN</td>\n",
       "      <td>NaN</td>\n",
       "    </tr>\n",
       "    <tr>\n",
       "      <th>5</th>\n",
       "      <td>NaN</td>\n",
       "      <td>NaN</td>\n",
       "      <td>NaN</td>\n",
       "      <td>NaN</td>\n",
       "      <td>NaN</td>\n",
       "      <td>NaN</td>\n",
       "      <td>NaN</td>\n",
       "      <td>NaN</td>\n",
       "      <td>NaN</td>\n",
       "      <td>NaN</td>\n",
       "      <td>NaN</td>\n",
       "      <td>NaN</td>\n",
       "    </tr>\n",
       "    <tr>\n",
       "      <th>6</th>\n",
       "      <td>NaN</td>\n",
       "      <td>NaN</td>\n",
       "      <td>NaN</td>\n",
       "      <td>NaN</td>\n",
       "      <td>NaN</td>\n",
       "      <td>NaN</td>\n",
       "      <td>NaN</td>\n",
       "      <td>NaN</td>\n",
       "      <td>NaN</td>\n",
       "      <td>NaN</td>\n",
       "      <td>NaN</td>\n",
       "      <td>NaN</td>\n",
       "    </tr>\n",
       "    <tr>\n",
       "      <th>7</th>\n",
       "      <td>NaN</td>\n",
       "      <td>NaN</td>\n",
       "      <td>NaN</td>\n",
       "      <td>NaN</td>\n",
       "      <td>NaN</td>\n",
       "      <td>NaN</td>\n",
       "      <td>NaN</td>\n",
       "      <td>NaN</td>\n",
       "      <td>NaN</td>\n",
       "      <td>NaN</td>\n",
       "      <td>NaN</td>\n",
       "      <td>NaN</td>\n",
       "    </tr>\n",
       "    <tr>\n",
       "      <th>8</th>\n",
       "      <td>NaN</td>\n",
       "      <td>NaN</td>\n",
       "      <td>NaN</td>\n",
       "      <td>NaN</td>\n",
       "      <td>NaN</td>\n",
       "      <td>NaN</td>\n",
       "      <td>NaN</td>\n",
       "      <td>NaN</td>\n",
       "      <td>NaN</td>\n",
       "      <td>NaN</td>\n",
       "      <td>NaN</td>\n",
       "      <td>NaN</td>\n",
       "    </tr>\n",
       "    <tr>\n",
       "      <th>9</th>\n",
       "      <td>NaN</td>\n",
       "      <td>NaN</td>\n",
       "      <td>NaN</td>\n",
       "      <td>NaN</td>\n",
       "      <td>NaN</td>\n",
       "      <td>NaN</td>\n",
       "      <td>NaN</td>\n",
       "      <td>NaN</td>\n",
       "      <td>NaN</td>\n",
       "      <td>NaN</td>\n",
       "      <td>NaN</td>\n",
       "      <td>NaN</td>\n",
       "    </tr>\n",
       "    <tr>\n",
       "      <th>10</th>\n",
       "      <td>NaN</td>\n",
       "      <td>NaN</td>\n",
       "      <td>NaN</td>\n",
       "      <td>NaN</td>\n",
       "      <td>NaN</td>\n",
       "      <td>NaN</td>\n",
       "      <td>NaN</td>\n",
       "      <td>NaN</td>\n",
       "      <td>NaN</td>\n",
       "      <td>NaN</td>\n",
       "      <td>NaN</td>\n",
       "      <td>NaN</td>\n",
       "    </tr>\n",
       "    <tr>\n",
       "      <th>11</th>\n",
       "      <td>NaN</td>\n",
       "      <td>Nett Margin:</td>\n",
       "      <td>Index Margin - Biaya handling - Ongkir</td>\n",
       "      <td>NaN</td>\n",
       "      <td>NaN</td>\n",
       "      <td>NaN</td>\n",
       "      <td>NaN</td>\n",
       "      <td>NaN</td>\n",
       "      <td>NaN</td>\n",
       "      <td>NaN</td>\n",
       "      <td>NaN</td>\n",
       "      <td>NaN</td>\n",
       "    </tr>\n",
       "    <tr>\n",
       "      <th>12</th>\n",
       "      <td>NaN</td>\n",
       "      <td>NaN</td>\n",
       "      <td>NaN</td>\n",
       "      <td>NaN</td>\n",
       "      <td>NaN</td>\n",
       "      <td>NaN</td>\n",
       "      <td>NaN</td>\n",
       "      <td>NaN</td>\n",
       "      <td>NaN</td>\n",
       "      <td>NaN</td>\n",
       "      <td>NaN</td>\n",
       "      <td>NaN</td>\n",
       "    </tr>\n",
       "  </tbody>\n",
       "</table>\n",
       "</div>"
      ],
      "text/plain": [
       "    GUDANG BIAYA HANDLING @ CARTON                     ONGKIR-BDG @ CARTON  \\\n",
       "0   PLANT1                    1000                                    2500   \n",
       "1   PLANT2                    1100                                    2400   \n",
       "2   PLANT3                    1200                                    1000   \n",
       "3      NaN                     NaN                                     NaN   \n",
       "4      NaN                     NaN                                     NaN   \n",
       "5      NaN                     NaN                                     NaN   \n",
       "6      NaN                     NaN                                     NaN   \n",
       "7      NaN                     NaN                                     NaN   \n",
       "8      NaN                     NaN                                     NaN   \n",
       "9      NaN                     NaN                                     NaN   \n",
       "10     NaN                     NaN                                     NaN   \n",
       "11     NaN            Nett Margin:  Index Margin - Biaya handling - Ongkir   \n",
       "12     NaN                     NaN                                     NaN   \n",
       "\n",
       "    ONGKIR-YOGYA @ CARTON  ONGKIR-MLG @ CARTON  ONGKIR-JKT @ CARTON  \\\n",
       "0                 1,500.0              2,000.0              2,000.0   \n",
       "1                 1,000.0              2,000.0              2,500.0   \n",
       "2                 3,000.0              2,000.0              3,000.0   \n",
       "3                     NaN                  NaN                  NaN   \n",
       "4                     NaN                  NaN                  NaN   \n",
       "5                     NaN                  NaN                  NaN   \n",
       "6                     NaN                  NaN                  NaN   \n",
       "7                     NaN                  NaN                  NaN   \n",
       "8                     NaN                  NaN                  NaN   \n",
       "9                     NaN                  NaN                  NaN   \n",
       "10                    NaN                  NaN                  NaN   \n",
       "11                    NaN                  NaN                  NaN   \n",
       "12                    NaN                  NaN                  NaN   \n",
       "\n",
       "    INDEX_MARGIN AA  INDEX_MARGIN BB  INDEX_MARGIN_CC  Capacity  AA  \\\n",
       "0          50,000.0         45,000.0         60,000.0      15,000.0   \n",
       "1          50,000.0         50,000.0         70,000.0      22,000.0   \n",
       "2          60,000.0         45,000.0         55,000.0      20,000.0   \n",
       "3               NaN              NaN              NaN           NaN   \n",
       "4               NaN              NaN              NaN           NaN   \n",
       "5               NaN              NaN              NaN           NaN   \n",
       "6               NaN              NaN              NaN           NaN   \n",
       "7               NaN              NaN              NaN           NaN   \n",
       "8               NaN              NaN              NaN           NaN   \n",
       "9               NaN              NaN              NaN           NaN   \n",
       "10              NaN              NaN              NaN           NaN   \n",
       "11              NaN              NaN              NaN           NaN   \n",
       "12              NaN              NaN              NaN           NaN   \n",
       "\n",
       "    Capacity BB  Capacity  CC  \n",
       "0      20,000.0      12,000.0  \n",
       "1      15,000.0      15,000.0  \n",
       "2      10,000.0      27,000.0  \n",
       "3           NaN           NaN  \n",
       "4           NaN           NaN  \n",
       "5           NaN           NaN  \n",
       "6           NaN           NaN  \n",
       "7           NaN           NaN  \n",
       "8           NaN           NaN  \n",
       "9           NaN           NaN  \n",
       "10          NaN           NaN  \n",
       "11          NaN           NaN  \n",
       "12          NaN           NaN  "
      ]
     },
     "execution_count": 117,
     "metadata": {},
     "output_type": "execute_result"
    }
   ],
   "source": [
    "df2"
   ]
  },
  {
   "cell_type": "code",
   "execution_count": 118,
   "id": "e7d55cbd-9102-438a-b51f-071909ea8e04",
   "metadata": {},
   "outputs": [],
   "source": [
    "#drop unused rows\n",
    "\n",
    "df2.drop(df2.index[3:], inplace = True)"
   ]
  },
  {
   "cell_type": "code",
   "execution_count": 119,
   "id": "29230eb1-6498-4c07-aabe-7431259ed0ea",
   "metadata": {
    "tags": []
   },
   "outputs": [
    {
     "data": {
      "text/html": [
       "<div>\n",
       "<style scoped>\n",
       "    .dataframe tbody tr th:only-of-type {\n",
       "        vertical-align: middle;\n",
       "    }\n",
       "\n",
       "    .dataframe tbody tr th {\n",
       "        vertical-align: top;\n",
       "    }\n",
       "\n",
       "    .dataframe thead th {\n",
       "        text-align: right;\n",
       "    }\n",
       "</style>\n",
       "<table border=\"1\" class=\"dataframe\">\n",
       "  <thead>\n",
       "    <tr style=\"text-align: right;\">\n",
       "      <th></th>\n",
       "      <th>GUDANG</th>\n",
       "      <th>BIAYA HANDLING @ CARTON</th>\n",
       "      <th>ONGKIR-BDG @ CARTON</th>\n",
       "      <th>ONGKIR-YOGYA @ CARTON</th>\n",
       "      <th>ONGKIR-MLG @ CARTON</th>\n",
       "      <th>ONGKIR-JKT @ CARTON</th>\n",
       "      <th>INDEX_MARGIN AA</th>\n",
       "      <th>INDEX_MARGIN BB</th>\n",
       "      <th>INDEX_MARGIN_CC</th>\n",
       "      <th>Capacity  AA</th>\n",
       "      <th>Capacity BB</th>\n",
       "      <th>Capacity  CC</th>\n",
       "    </tr>\n",
       "  </thead>\n",
       "  <tbody>\n",
       "    <tr>\n",
       "      <th>0</th>\n",
       "      <td>PLANT1</td>\n",
       "      <td>1000</td>\n",
       "      <td>2500</td>\n",
       "      <td>1,500.0</td>\n",
       "      <td>2,000.0</td>\n",
       "      <td>2,000.0</td>\n",
       "      <td>50,000.0</td>\n",
       "      <td>45,000.0</td>\n",
       "      <td>60,000.0</td>\n",
       "      <td>15,000.0</td>\n",
       "      <td>20,000.0</td>\n",
       "      <td>12,000.0</td>\n",
       "    </tr>\n",
       "    <tr>\n",
       "      <th>1</th>\n",
       "      <td>PLANT2</td>\n",
       "      <td>1100</td>\n",
       "      <td>2400</td>\n",
       "      <td>1,000.0</td>\n",
       "      <td>2,000.0</td>\n",
       "      <td>2,500.0</td>\n",
       "      <td>50,000.0</td>\n",
       "      <td>50,000.0</td>\n",
       "      <td>70,000.0</td>\n",
       "      <td>22,000.0</td>\n",
       "      <td>15,000.0</td>\n",
       "      <td>15,000.0</td>\n",
       "    </tr>\n",
       "    <tr>\n",
       "      <th>2</th>\n",
       "      <td>PLANT3</td>\n",
       "      <td>1200</td>\n",
       "      <td>1000</td>\n",
       "      <td>3,000.0</td>\n",
       "      <td>2,000.0</td>\n",
       "      <td>3,000.0</td>\n",
       "      <td>60,000.0</td>\n",
       "      <td>45,000.0</td>\n",
       "      <td>55,000.0</td>\n",
       "      <td>20,000.0</td>\n",
       "      <td>10,000.0</td>\n",
       "      <td>27,000.0</td>\n",
       "    </tr>\n",
       "  </tbody>\n",
       "</table>\n",
       "</div>"
      ],
      "text/plain": [
       "   GUDANG BIAYA HANDLING @ CARTON ONGKIR-BDG @ CARTON  ONGKIR-YOGYA @ CARTON  \\\n",
       "0  PLANT1                    1000                2500                1,500.0   \n",
       "1  PLANT2                    1100                2400                1,000.0   \n",
       "2  PLANT3                    1200                1000                3,000.0   \n",
       "\n",
       "   ONGKIR-MLG @ CARTON  ONGKIR-JKT @ CARTON  INDEX_MARGIN AA  INDEX_MARGIN BB  \\\n",
       "0              2,000.0              2,000.0         50,000.0         45,000.0   \n",
       "1              2,000.0              2,500.0         50,000.0         50,000.0   \n",
       "2              2,000.0              3,000.0         60,000.0         45,000.0   \n",
       "\n",
       "   INDEX_MARGIN_CC  Capacity  AA  Capacity BB  Capacity  CC  \n",
       "0         60,000.0      15,000.0     20,000.0      12,000.0  \n",
       "1         70,000.0      22,000.0     15,000.0      15,000.0  \n",
       "2         55,000.0      20,000.0     10,000.0      27,000.0  "
      ]
     },
     "execution_count": 119,
     "metadata": {},
     "output_type": "execute_result"
    }
   ],
   "source": [
    "df2"
   ]
  },
  {
   "cell_type": "code",
   "execution_count": 120,
   "id": "f3786074-c429-45f9-8819-d4a91798788b",
   "metadata": {
    "tags": []
   },
   "outputs": [],
   "source": [
    "#renaming it\n",
    "\n",
    "lookup_df = df2.copy()"
   ]
  },
  {
   "cell_type": "code",
   "execution_count": 121,
   "id": "6ce4a5d4-3c20-4d08-bbd4-9ca91e488e3f",
   "metadata": {
    "tags": []
   },
   "outputs": [
    {
     "data": {
      "text/plain": [
       "Index(['GUDANG', 'BIAYA HANDLING @ CARTON', 'ONGKIR-BDG @ CARTON',\n",
       "       'ONGKIR-YOGYA @ CARTON', 'ONGKIR-MLG @ CARTON', 'ONGKIR-JKT @ CARTON',\n",
       "       'INDEX_MARGIN AA', 'INDEX_MARGIN BB', 'INDEX_MARGIN_CC', 'Capacity  AA',\n",
       "       'Capacity BB', 'Capacity  CC'],\n",
       "      dtype='object')"
      ]
     },
     "execution_count": 121,
     "metadata": {},
     "output_type": "execute_result"
    }
   ],
   "source": [
    "#checking column names, trying to fix any mispelling or double whitespaces\n",
    "\n",
    "lookup_df.columns"
   ]
  },
  {
   "cell_type": "code",
   "execution_count": 122,
   "id": "6e7fd33d-be72-4d90-800e-ff581241fb49",
   "metadata": {
    "tags": []
   },
   "outputs": [],
   "source": [
    "lookup_df.rename(columns={'Capacity  AA': 'Capacity AA', 'Capacity  CC': 'Capacity CC'}, inplace=True)\n",
    "lookup_df.rename(columns={'ONGKIR-BDG @ CARTON' : 'ONGKIR-BANDUNG @ CARTON', 'ONGKIR-MLG @ CARTON': 'ONGKIR-MALANG @ CARTON', 'ONGKIR-JKT @ CARTON' : 'ONGKIR-JAKARTA @ CARTON'}, inplace=True)"
   ]
  },
  {
   "cell_type": "code",
   "execution_count": 123,
   "id": "47e620dc-8b49-4947-9a11-7a88c737869c",
   "metadata": {
    "tags": []
   },
   "outputs": [
    {
     "data": {
      "text/plain": [
       "Index(['GUDANG', 'BIAYA HANDLING @ CARTON', 'ONGKIR-BANDUNG @ CARTON',\n",
       "       'ONGKIR-YOGYA @ CARTON', 'ONGKIR-MALANG @ CARTON',\n",
       "       'ONGKIR-JAKARTA @ CARTON', 'INDEX_MARGIN AA', 'INDEX_MARGIN BB',\n",
       "       'INDEX_MARGIN_CC', 'Capacity AA', 'Capacity BB', 'Capacity CC'],\n",
       "      dtype='object')"
      ]
     },
     "execution_count": 123,
     "metadata": {},
     "output_type": "execute_result"
    }
   ],
   "source": [
    "lookup_df.columns"
   ]
  },
  {
   "cell_type": "code",
   "execution_count": 124,
   "id": "6997055a-8839-41b8-b1e4-57054e054796",
   "metadata": {
    "tags": []
   },
   "outputs": [],
   "source": [
    "lookup_df.columns = lookup_df.columns.str.replace(r'\\s+', '_', regex=True)"
   ]
  },
  {
   "cell_type": "code",
   "execution_count": 125,
   "id": "7ca1b98e-384b-457e-9f20-97593a95d9ae",
   "metadata": {
    "tags": []
   },
   "outputs": [],
   "source": [
    "#standardizing column data types into float\n",
    "\n",
    "cols_to_convert = ['BIAYA_HANDLING_@_CARTON', 'ONGKIR-BANDUNG_@_CARTON',\n",
    "       'ONGKIR-YOGYA_@_CARTON', 'ONGKIR-MALANG_@_CARTON',\n",
    "       'ONGKIR-JAKARTA_@_CARTON', 'INDEX_MARGIN_AA', 'INDEX_MARGIN_BB',\n",
    "       'INDEX_MARGIN_CC', 'Capacity_AA', 'Capacity_BB', 'Capacity_CC']\n",
    "lookup_df[cols_to_convert] = lookup_df[cols_to_convert].astype(float)"
   ]
  },
  {
   "cell_type": "code",
   "execution_count": 126,
   "id": "c00ea659-c3f3-4947-b39e-2745d7b8a6e5",
   "metadata": {
    "tags": []
   },
   "outputs": [
    {
     "data": {
      "text/html": [
       "<div>\n",
       "<style scoped>\n",
       "    .dataframe tbody tr th:only-of-type {\n",
       "        vertical-align: middle;\n",
       "    }\n",
       "\n",
       "    .dataframe tbody tr th {\n",
       "        vertical-align: top;\n",
       "    }\n",
       "\n",
       "    .dataframe thead th {\n",
       "        text-align: right;\n",
       "    }\n",
       "</style>\n",
       "<table border=\"1\" class=\"dataframe\">\n",
       "  <thead>\n",
       "    <tr style=\"text-align: right;\">\n",
       "      <th></th>\n",
       "      <th>GUDANG</th>\n",
       "      <th>BIAYA_HANDLING_@_CARTON</th>\n",
       "      <th>ONGKIR-BANDUNG_@_CARTON</th>\n",
       "      <th>ONGKIR-YOGYA_@_CARTON</th>\n",
       "      <th>ONGKIR-MALANG_@_CARTON</th>\n",
       "      <th>ONGKIR-JAKARTA_@_CARTON</th>\n",
       "      <th>INDEX_MARGIN_AA</th>\n",
       "      <th>INDEX_MARGIN_BB</th>\n",
       "      <th>INDEX_MARGIN_CC</th>\n",
       "      <th>Capacity_AA</th>\n",
       "      <th>Capacity_BB</th>\n",
       "      <th>Capacity_CC</th>\n",
       "    </tr>\n",
       "  </thead>\n",
       "  <tbody>\n",
       "    <tr>\n",
       "      <th>0</th>\n",
       "      <td>PLANT1</td>\n",
       "      <td>1,000.0</td>\n",
       "      <td>2,500.0</td>\n",
       "      <td>1,500.0</td>\n",
       "      <td>2,000.0</td>\n",
       "      <td>2,000.0</td>\n",
       "      <td>50,000.0</td>\n",
       "      <td>45,000.0</td>\n",
       "      <td>60,000.0</td>\n",
       "      <td>15,000.0</td>\n",
       "      <td>20,000.0</td>\n",
       "      <td>12,000.0</td>\n",
       "    </tr>\n",
       "    <tr>\n",
       "      <th>1</th>\n",
       "      <td>PLANT2</td>\n",
       "      <td>1,100.0</td>\n",
       "      <td>2,400.0</td>\n",
       "      <td>1,000.0</td>\n",
       "      <td>2,000.0</td>\n",
       "      <td>2,500.0</td>\n",
       "      <td>50,000.0</td>\n",
       "      <td>50,000.0</td>\n",
       "      <td>70,000.0</td>\n",
       "      <td>22,000.0</td>\n",
       "      <td>15,000.0</td>\n",
       "      <td>15,000.0</td>\n",
       "    </tr>\n",
       "    <tr>\n",
       "      <th>2</th>\n",
       "      <td>PLANT3</td>\n",
       "      <td>1,200.0</td>\n",
       "      <td>1,000.0</td>\n",
       "      <td>3,000.0</td>\n",
       "      <td>2,000.0</td>\n",
       "      <td>3,000.0</td>\n",
       "      <td>60,000.0</td>\n",
       "      <td>45,000.0</td>\n",
       "      <td>55,000.0</td>\n",
       "      <td>20,000.0</td>\n",
       "      <td>10,000.0</td>\n",
       "      <td>27,000.0</td>\n",
       "    </tr>\n",
       "  </tbody>\n",
       "</table>\n",
       "</div>"
      ],
      "text/plain": [
       "   GUDANG  BIAYA_HANDLING_@_CARTON  ONGKIR-BANDUNG_@_CARTON  \\\n",
       "0  PLANT1                  1,000.0                  2,500.0   \n",
       "1  PLANT2                  1,100.0                  2,400.0   \n",
       "2  PLANT3                  1,200.0                  1,000.0   \n",
       "\n",
       "   ONGKIR-YOGYA_@_CARTON  ONGKIR-MALANG_@_CARTON  ONGKIR-JAKARTA_@_CARTON  \\\n",
       "0                1,500.0                 2,000.0                  2,000.0   \n",
       "1                1,000.0                 2,000.0                  2,500.0   \n",
       "2                3,000.0                 2,000.0                  3,000.0   \n",
       "\n",
       "   INDEX_MARGIN_AA  INDEX_MARGIN_BB  INDEX_MARGIN_CC  Capacity_AA  \\\n",
       "0         50,000.0         45,000.0         60,000.0     15,000.0   \n",
       "1         50,000.0         50,000.0         70,000.0     22,000.0   \n",
       "2         60,000.0         45,000.0         55,000.0     20,000.0   \n",
       "\n",
       "   Capacity_BB  Capacity_CC  \n",
       "0     20,000.0     12,000.0  \n",
       "1     15,000.0     15,000.0  \n",
       "2     10,000.0     27,000.0  "
      ]
     },
     "execution_count": 126,
     "metadata": {},
     "output_type": "execute_result"
    }
   ],
   "source": [
    "lookup_df"
   ]
  },
  {
   "cell_type": "markdown",
   "id": "dd830951-5b1a-4151-8ad8-014dd5b2a479",
   "metadata": {
    "tags": []
   },
   "source": [
    "<h2>Creating the calculation optimization for NETT Margin</h2>"
   ]
  },
  {
   "cell_type": "markdown",
   "id": "a3aaa772-3249-4a49-927e-7498a594c4d3",
   "metadata": {},
   "source": [
    "<p>First thing to do is to calculate the Single Product NETT Margin. The formula of NETT Margin based on the test is:</p>\n",
    "\n",
    "<b>Single NETT Margin = Index Margin - (Handling + Shipment)</b>\n",
    "\n",
    "<p>Then we can calculate the Total NETT Margin using this formula</p>\n",
    "\n",
    "<b>Total NETT Margin = Single NETT Margin * Demand</b>\n",
    "\n",
    "<p>Based on that formula, we can create calculation function to calculate the costs, margins and nett margins that looks like:</p>"
   ]
  },
  {
   "cell_type": "code",
   "execution_count": 149,
   "id": "08568723-73a6-4d14-817e-223e2660538f",
   "metadata": {
    "tags": []
   },
   "outputs": [],
   "source": [
    "#create a function to calculate costs, margins, and net margins\n",
    "def calculate_margins(case_row, lookup_df):\n",
    "    city = case_row['KOTA']\n",
    "    item = case_row['JENIS_ITEM']\n",
    "    demand = case_row['DEMAND']\n",
    "\n",
    "    costs = []\n",
    "    single_net_margins = []\n",
    "    total_net_margins = []\n",
    "    index_margins = []\n",
    "    \n",
    "    #Calculate costs and index margin for each plant\n",
    "    for _, plant_row in lookup_df.iterrows():\n",
    "        handling_cost = plant_row['BIAYA_HANDLING_@_CARTON']\n",
    "        shipment_cost = plant_row[f'ONGKIR-{city.upper()}_@_CARTON']\n",
    "        total_cost = handling_cost + shipment_cost\n",
    "        index_margin = plant_row[f'INDEX_MARGIN_{item}']\n",
    "        \n",
    "        #inserting the formula needed\n",
    "        single_net_margin = index_margin - total_cost\n",
    "        total_net_margin = single_net_margin * demand\n",
    "        \n",
    "        costs.append(total_cost)\n",
    "        single_net_margins.append(single_net_margin)\n",
    "        total_net_margins.append(total_net_margin)\n",
    "        index_margins.append(index_margin)\n",
    "    \n",
    "    return pd.Series(index_margins + costs + single_net_margins + total_net_margins)"
   ]
  },
  {
   "cell_type": "code",
   "execution_count": 150,
   "id": "dc87e61a-8cc5-4cfb-8955-f3a7e05a6a3a",
   "metadata": {
    "tags": []
   },
   "outputs": [],
   "source": [
    "#apply the function to each row in the case_df and merge results\n",
    "result_df = case_df.copy()\n",
    "result_df[['Index Margin Plant1', 'Index Margin Plant2', 'Index Margin Plant3', \n",
    "           'Cost Plant1', 'Cost Plant2', 'Cost Plant3', \n",
    "           'Single Nett Margin Plant1', 'Single Nett Margin Plant2', 'Single Nett Margin Plant3', \n",
    "           'Total Nett Margin Plant1', 'Total Nett Margin Plant2', 'Total Nett Margin Plant3']] = case_df.apply(calculate_margins, lookup_df=lookup_df, axis=1)"
   ]
  },
  {
   "cell_type": "code",
   "execution_count": 151,
   "id": "f1e0656a-2e70-4d69-a99a-7e1dd182626e",
   "metadata": {
    "tags": []
   },
   "outputs": [
    {
     "data": {
      "text/html": [
       "<div>\n",
       "<style scoped>\n",
       "    .dataframe tbody tr th:only-of-type {\n",
       "        vertical-align: middle;\n",
       "    }\n",
       "\n",
       "    .dataframe tbody tr th {\n",
       "        vertical-align: top;\n",
       "    }\n",
       "\n",
       "    .dataframe thead th {\n",
       "        text-align: right;\n",
       "    }\n",
       "</style>\n",
       "<table border=\"1\" class=\"dataframe\">\n",
       "  <thead>\n",
       "    <tr style=\"text-align: right;\">\n",
       "      <th></th>\n",
       "      <th>DEMAND</th>\n",
       "      <th>KOTA</th>\n",
       "      <th>JENIS_ITEM</th>\n",
       "      <th>Index Margin Plant1</th>\n",
       "      <th>Index Margin Plant2</th>\n",
       "      <th>Index Margin Plant3</th>\n",
       "      <th>Cost Plant1</th>\n",
       "      <th>Cost Plant2</th>\n",
       "      <th>Cost Plant3</th>\n",
       "      <th>Single Nett Margin Plant1</th>\n",
       "      <th>Single Nett Margin Plant2</th>\n",
       "      <th>Single Nett Margin Plant3</th>\n",
       "      <th>Total Nett Margin Plant1</th>\n",
       "      <th>Total Nett Margin Plant2</th>\n",
       "      <th>Total Nett Margin Plant3</th>\n",
       "    </tr>\n",
       "  </thead>\n",
       "  <tbody>\n",
       "    <tr>\n",
       "      <th>0</th>\n",
       "      <td>20,000.0</td>\n",
       "      <td>BANDUNG</td>\n",
       "      <td>AA</td>\n",
       "      <td>50,000.0</td>\n",
       "      <td>50,000.0</td>\n",
       "      <td>60,000.0</td>\n",
       "      <td>3,500.0</td>\n",
       "      <td>3,500.0</td>\n",
       "      <td>2,200.0</td>\n",
       "      <td>46,500.0</td>\n",
       "      <td>46,500.0</td>\n",
       "      <td>57,800.0</td>\n",
       "      <td>930,000,000.0</td>\n",
       "      <td>930,000,000.0</td>\n",
       "      <td>1,156,000,000.0</td>\n",
       "    </tr>\n",
       "    <tr>\n",
       "      <th>1</th>\n",
       "      <td>15,000.0</td>\n",
       "      <td>YOGYA</td>\n",
       "      <td>AA</td>\n",
       "      <td>50,000.0</td>\n",
       "      <td>50,000.0</td>\n",
       "      <td>60,000.0</td>\n",
       "      <td>2,500.0</td>\n",
       "      <td>2,100.0</td>\n",
       "      <td>4,200.0</td>\n",
       "      <td>47,500.0</td>\n",
       "      <td>47,900.0</td>\n",
       "      <td>55,800.0</td>\n",
       "      <td>712,500,000.0</td>\n",
       "      <td>718,500,000.0</td>\n",
       "      <td>837,000,000.0</td>\n",
       "    </tr>\n",
       "    <tr>\n",
       "      <th>2</th>\n",
       "      <td>15,000.0</td>\n",
       "      <td>MALANG</td>\n",
       "      <td>AA</td>\n",
       "      <td>50,000.0</td>\n",
       "      <td>50,000.0</td>\n",
       "      <td>60,000.0</td>\n",
       "      <td>3,000.0</td>\n",
       "      <td>3,100.0</td>\n",
       "      <td>3,200.0</td>\n",
       "      <td>47,000.0</td>\n",
       "      <td>46,900.0</td>\n",
       "      <td>56,800.0</td>\n",
       "      <td>705,000,000.0</td>\n",
       "      <td>703,500,000.0</td>\n",
       "      <td>852,000,000.0</td>\n",
       "    </tr>\n",
       "    <tr>\n",
       "      <th>3</th>\n",
       "      <td>12,000.0</td>\n",
       "      <td>JAKARTA</td>\n",
       "      <td>AA</td>\n",
       "      <td>50,000.0</td>\n",
       "      <td>50,000.0</td>\n",
       "      <td>60,000.0</td>\n",
       "      <td>3,000.0</td>\n",
       "      <td>3,600.0</td>\n",
       "      <td>4,200.0</td>\n",
       "      <td>47,000.0</td>\n",
       "      <td>46,400.0</td>\n",
       "      <td>55,800.0</td>\n",
       "      <td>564,000,000.0</td>\n",
       "      <td>556,800,000.0</td>\n",
       "      <td>669,600,000.0</td>\n",
       "    </tr>\n",
       "    <tr>\n",
       "      <th>4</th>\n",
       "      <td>12,000.0</td>\n",
       "      <td>BANDUNG</td>\n",
       "      <td>BB</td>\n",
       "      <td>45,000.0</td>\n",
       "      <td>50,000.0</td>\n",
       "      <td>45,000.0</td>\n",
       "      <td>3,500.0</td>\n",
       "      <td>3,500.0</td>\n",
       "      <td>2,200.0</td>\n",
       "      <td>41,500.0</td>\n",
       "      <td>46,500.0</td>\n",
       "      <td>42,800.0</td>\n",
       "      <td>498,000,000.0</td>\n",
       "      <td>558,000,000.0</td>\n",
       "      <td>513,600,000.0</td>\n",
       "    </tr>\n",
       "    <tr>\n",
       "      <th>5</th>\n",
       "      <td>11,000.0</td>\n",
       "      <td>YOGYA</td>\n",
       "      <td>BB</td>\n",
       "      <td>45,000.0</td>\n",
       "      <td>50,000.0</td>\n",
       "      <td>45,000.0</td>\n",
       "      <td>2,500.0</td>\n",
       "      <td>2,100.0</td>\n",
       "      <td>4,200.0</td>\n",
       "      <td>42,500.0</td>\n",
       "      <td>47,900.0</td>\n",
       "      <td>40,800.0</td>\n",
       "      <td>467,500,000.0</td>\n",
       "      <td>526,900,000.0</td>\n",
       "      <td>448,800,000.0</td>\n",
       "    </tr>\n",
       "    <tr>\n",
       "      <th>6</th>\n",
       "      <td>8,500.0</td>\n",
       "      <td>MALANG</td>\n",
       "      <td>BB</td>\n",
       "      <td>45,000.0</td>\n",
       "      <td>50,000.0</td>\n",
       "      <td>45,000.0</td>\n",
       "      <td>3,000.0</td>\n",
       "      <td>3,100.0</td>\n",
       "      <td>3,200.0</td>\n",
       "      <td>42,000.0</td>\n",
       "      <td>46,900.0</td>\n",
       "      <td>41,800.0</td>\n",
       "      <td>357,000,000.0</td>\n",
       "      <td>398,650,000.0</td>\n",
       "      <td>355,300,000.0</td>\n",
       "    </tr>\n",
       "    <tr>\n",
       "      <th>7</th>\n",
       "      <td>7,000.0</td>\n",
       "      <td>JAKARTA</td>\n",
       "      <td>BB</td>\n",
       "      <td>45,000.0</td>\n",
       "      <td>50,000.0</td>\n",
       "      <td>45,000.0</td>\n",
       "      <td>3,000.0</td>\n",
       "      <td>3,600.0</td>\n",
       "      <td>4,200.0</td>\n",
       "      <td>42,000.0</td>\n",
       "      <td>46,400.0</td>\n",
       "      <td>40,800.0</td>\n",
       "      <td>294,000,000.0</td>\n",
       "      <td>324,800,000.0</td>\n",
       "      <td>285,600,000.0</td>\n",
       "    </tr>\n",
       "    <tr>\n",
       "      <th>8</th>\n",
       "      <td>12,000.0</td>\n",
       "      <td>BANDUNG</td>\n",
       "      <td>CC</td>\n",
       "      <td>60,000.0</td>\n",
       "      <td>70,000.0</td>\n",
       "      <td>55,000.0</td>\n",
       "      <td>3,500.0</td>\n",
       "      <td>3,500.0</td>\n",
       "      <td>2,200.0</td>\n",
       "      <td>56,500.0</td>\n",
       "      <td>66,500.0</td>\n",
       "      <td>52,800.0</td>\n",
       "      <td>678,000,000.0</td>\n",
       "      <td>798,000,000.0</td>\n",
       "      <td>633,600,000.0</td>\n",
       "    </tr>\n",
       "    <tr>\n",
       "      <th>9</th>\n",
       "      <td>10,500.0</td>\n",
       "      <td>YOGYA</td>\n",
       "      <td>CC</td>\n",
       "      <td>60,000.0</td>\n",
       "      <td>70,000.0</td>\n",
       "      <td>55,000.0</td>\n",
       "      <td>2,500.0</td>\n",
       "      <td>2,100.0</td>\n",
       "      <td>4,200.0</td>\n",
       "      <td>57,500.0</td>\n",
       "      <td>67,900.0</td>\n",
       "      <td>50,800.0</td>\n",
       "      <td>603,750,000.0</td>\n",
       "      <td>712,950,000.0</td>\n",
       "      <td>533,400,000.0</td>\n",
       "    </tr>\n",
       "    <tr>\n",
       "      <th>10</th>\n",
       "      <td>9,000.0</td>\n",
       "      <td>MALANG</td>\n",
       "      <td>CC</td>\n",
       "      <td>60,000.0</td>\n",
       "      <td>70,000.0</td>\n",
       "      <td>55,000.0</td>\n",
       "      <td>3,000.0</td>\n",
       "      <td>3,100.0</td>\n",
       "      <td>3,200.0</td>\n",
       "      <td>57,000.0</td>\n",
       "      <td>66,900.0</td>\n",
       "      <td>51,800.0</td>\n",
       "      <td>513,000,000.0</td>\n",
       "      <td>602,100,000.0</td>\n",
       "      <td>466,200,000.0</td>\n",
       "    </tr>\n",
       "    <tr>\n",
       "      <th>11</th>\n",
       "      <td>10,000.0</td>\n",
       "      <td>JAKARTA</td>\n",
       "      <td>CC</td>\n",
       "      <td>60,000.0</td>\n",
       "      <td>70,000.0</td>\n",
       "      <td>55,000.0</td>\n",
       "      <td>3,000.0</td>\n",
       "      <td>3,600.0</td>\n",
       "      <td>4,200.0</td>\n",
       "      <td>57,000.0</td>\n",
       "      <td>66,400.0</td>\n",
       "      <td>50,800.0</td>\n",
       "      <td>570,000,000.0</td>\n",
       "      <td>664,000,000.0</td>\n",
       "      <td>508,000,000.0</td>\n",
       "    </tr>\n",
       "  </tbody>\n",
       "</table>\n",
       "</div>"
      ],
      "text/plain": [
       "     DEMAND     KOTA JENIS_ITEM  Index Margin Plant1  Index Margin Plant2  \\\n",
       "0  20,000.0  BANDUNG         AA             50,000.0             50,000.0   \n",
       "1  15,000.0    YOGYA         AA             50,000.0             50,000.0   \n",
       "2  15,000.0   MALANG         AA             50,000.0             50,000.0   \n",
       "3  12,000.0  JAKARTA         AA             50,000.0             50,000.0   \n",
       "4  12,000.0  BANDUNG         BB             45,000.0             50,000.0   \n",
       "5  11,000.0    YOGYA         BB             45,000.0             50,000.0   \n",
       "6   8,500.0   MALANG         BB             45,000.0             50,000.0   \n",
       "7   7,000.0  JAKARTA         BB             45,000.0             50,000.0   \n",
       "8  12,000.0  BANDUNG         CC             60,000.0             70,000.0   \n",
       "9  10,500.0    YOGYA         CC             60,000.0             70,000.0   \n",
       "10  9,000.0   MALANG         CC             60,000.0             70,000.0   \n",
       "11 10,000.0  JAKARTA         CC             60,000.0             70,000.0   \n",
       "\n",
       "    Index Margin Plant3  Cost Plant1  Cost Plant2  Cost Plant3  \\\n",
       "0              60,000.0      3,500.0      3,500.0      2,200.0   \n",
       "1              60,000.0      2,500.0      2,100.0      4,200.0   \n",
       "2              60,000.0      3,000.0      3,100.0      3,200.0   \n",
       "3              60,000.0      3,000.0      3,600.0      4,200.0   \n",
       "4              45,000.0      3,500.0      3,500.0      2,200.0   \n",
       "5              45,000.0      2,500.0      2,100.0      4,200.0   \n",
       "6              45,000.0      3,000.0      3,100.0      3,200.0   \n",
       "7              45,000.0      3,000.0      3,600.0      4,200.0   \n",
       "8              55,000.0      3,500.0      3,500.0      2,200.0   \n",
       "9              55,000.0      2,500.0      2,100.0      4,200.0   \n",
       "10             55,000.0      3,000.0      3,100.0      3,200.0   \n",
       "11             55,000.0      3,000.0      3,600.0      4,200.0   \n",
       "\n",
       "    Single Nett Margin Plant1  Single Nett Margin Plant2  \\\n",
       "0                    46,500.0                   46,500.0   \n",
       "1                    47,500.0                   47,900.0   \n",
       "2                    47,000.0                   46,900.0   \n",
       "3                    47,000.0                   46,400.0   \n",
       "4                    41,500.0                   46,500.0   \n",
       "5                    42,500.0                   47,900.0   \n",
       "6                    42,000.0                   46,900.0   \n",
       "7                    42,000.0                   46,400.0   \n",
       "8                    56,500.0                   66,500.0   \n",
       "9                    57,500.0                   67,900.0   \n",
       "10                   57,000.0                   66,900.0   \n",
       "11                   57,000.0                   66,400.0   \n",
       "\n",
       "    Single Nett Margin Plant3  Total Nett Margin Plant1  \\\n",
       "0                    57,800.0             930,000,000.0   \n",
       "1                    55,800.0             712,500,000.0   \n",
       "2                    56,800.0             705,000,000.0   \n",
       "3                    55,800.0             564,000,000.0   \n",
       "4                    42,800.0             498,000,000.0   \n",
       "5                    40,800.0             467,500,000.0   \n",
       "6                    41,800.0             357,000,000.0   \n",
       "7                    40,800.0             294,000,000.0   \n",
       "8                    52,800.0             678,000,000.0   \n",
       "9                    50,800.0             603,750,000.0   \n",
       "10                   51,800.0             513,000,000.0   \n",
       "11                   50,800.0             570,000,000.0   \n",
       "\n",
       "    Total Nett Margin Plant2  Total Nett Margin Plant3  \n",
       "0              930,000,000.0           1,156,000,000.0  \n",
       "1              718,500,000.0             837,000,000.0  \n",
       "2              703,500,000.0             852,000,000.0  \n",
       "3              556,800,000.0             669,600,000.0  \n",
       "4              558,000,000.0             513,600,000.0  \n",
       "5              526,900,000.0             448,800,000.0  \n",
       "6              398,650,000.0             355,300,000.0  \n",
       "7              324,800,000.0             285,600,000.0  \n",
       "8              798,000,000.0             633,600,000.0  \n",
       "9              712,950,000.0             533,400,000.0  \n",
       "10             602,100,000.0             466,200,000.0  \n",
       "11             664,000,000.0             508,000,000.0  "
      ]
     },
     "execution_count": 151,
     "metadata": {},
     "output_type": "execute_result"
    }
   ],
   "source": [
    "result_df"
   ]
  },
  {
   "cell_type": "code",
   "execution_count": 152,
   "id": "8565b140-f1d7-44c4-88e2-c81d7f58f9ef",
   "metadata": {
    "tags": []
   },
   "outputs": [],
   "source": [
    "#adding capacity columns to the result_df\n",
    "result_df[['Capacity Plant1', 'Capacity Plant2', 'Capacity Plant3']] = lookup_df[['Capacity_AA', 'Capacity_BB', 'Capacity_CC']].reindex(result_df['JENIS_ITEM'].apply(lambda x: ord(x[-1]) - ord('A'))).values"
   ]
  },
  {
   "cell_type": "code",
   "execution_count": 153,
   "id": "b449f949-6fdb-4e26-a3e1-0457fb563997",
   "metadata": {
    "tags": []
   },
   "outputs": [],
   "source": [
    "result_df['Max Total Nett Margin'] = result_df[['Total Nett Margin Plant1', 'Total Nett Margin Plant2', 'Total Nett Margin Plant3']].max(axis=1)\n",
    "result_df.sort_values(by='Max Total Nett Margin', ascending=False, inplace=True)"
   ]
  },
  {
   "cell_type": "code",
   "execution_count": 154,
   "id": "ae9bc10a-5534-47cb-9f24-6e9212369a86",
   "metadata": {},
   "outputs": [
    {
     "data": {
      "text/html": [
       "<div>\n",
       "<style scoped>\n",
       "    .dataframe tbody tr th:only-of-type {\n",
       "        vertical-align: middle;\n",
       "    }\n",
       "\n",
       "    .dataframe tbody tr th {\n",
       "        vertical-align: top;\n",
       "    }\n",
       "\n",
       "    .dataframe thead th {\n",
       "        text-align: right;\n",
       "    }\n",
       "</style>\n",
       "<table border=\"1\" class=\"dataframe\">\n",
       "  <thead>\n",
       "    <tr style=\"text-align: right;\">\n",
       "      <th></th>\n",
       "      <th>DEMAND</th>\n",
       "      <th>KOTA</th>\n",
       "      <th>JENIS_ITEM</th>\n",
       "      <th>Index Margin Plant1</th>\n",
       "      <th>Index Margin Plant2</th>\n",
       "      <th>Index Margin Plant3</th>\n",
       "      <th>Cost Plant1</th>\n",
       "      <th>Cost Plant2</th>\n",
       "      <th>Cost Plant3</th>\n",
       "      <th>Single Nett Margin Plant1</th>\n",
       "      <th>Single Nett Margin Plant2</th>\n",
       "      <th>Single Nett Margin Plant3</th>\n",
       "      <th>Total Nett Margin Plant1</th>\n",
       "      <th>Total Nett Margin Plant2</th>\n",
       "      <th>Total Nett Margin Plant3</th>\n",
       "      <th>Capacity Plant1</th>\n",
       "      <th>Capacity Plant2</th>\n",
       "      <th>Capacity Plant3</th>\n",
       "      <th>Max Total Nett Margin</th>\n",
       "    </tr>\n",
       "  </thead>\n",
       "  <tbody>\n",
       "    <tr>\n",
       "      <th>0</th>\n",
       "      <td>20,000.0</td>\n",
       "      <td>BANDUNG</td>\n",
       "      <td>AA</td>\n",
       "      <td>50,000.0</td>\n",
       "      <td>50,000.0</td>\n",
       "      <td>60,000.0</td>\n",
       "      <td>3,500.0</td>\n",
       "      <td>3,500.0</td>\n",
       "      <td>2,200.0</td>\n",
       "      <td>46,500.0</td>\n",
       "      <td>46,500.0</td>\n",
       "      <td>57,800.0</td>\n",
       "      <td>930,000,000.0</td>\n",
       "      <td>930,000,000.0</td>\n",
       "      <td>1,156,000,000.0</td>\n",
       "      <td>15,000.0</td>\n",
       "      <td>20,000.0</td>\n",
       "      <td>12,000.0</td>\n",
       "      <td>1,156,000,000.0</td>\n",
       "    </tr>\n",
       "    <tr>\n",
       "      <th>2</th>\n",
       "      <td>15,000.0</td>\n",
       "      <td>MALANG</td>\n",
       "      <td>AA</td>\n",
       "      <td>50,000.0</td>\n",
       "      <td>50,000.0</td>\n",
       "      <td>60,000.0</td>\n",
       "      <td>3,000.0</td>\n",
       "      <td>3,100.0</td>\n",
       "      <td>3,200.0</td>\n",
       "      <td>47,000.0</td>\n",
       "      <td>46,900.0</td>\n",
       "      <td>56,800.0</td>\n",
       "      <td>705,000,000.0</td>\n",
       "      <td>703,500,000.0</td>\n",
       "      <td>852,000,000.0</td>\n",
       "      <td>15,000.0</td>\n",
       "      <td>20,000.0</td>\n",
       "      <td>12,000.0</td>\n",
       "      <td>852,000,000.0</td>\n",
       "    </tr>\n",
       "    <tr>\n",
       "      <th>1</th>\n",
       "      <td>15,000.0</td>\n",
       "      <td>YOGYA</td>\n",
       "      <td>AA</td>\n",
       "      <td>50,000.0</td>\n",
       "      <td>50,000.0</td>\n",
       "      <td>60,000.0</td>\n",
       "      <td>2,500.0</td>\n",
       "      <td>2,100.0</td>\n",
       "      <td>4,200.0</td>\n",
       "      <td>47,500.0</td>\n",
       "      <td>47,900.0</td>\n",
       "      <td>55,800.0</td>\n",
       "      <td>712,500,000.0</td>\n",
       "      <td>718,500,000.0</td>\n",
       "      <td>837,000,000.0</td>\n",
       "      <td>15,000.0</td>\n",
       "      <td>20,000.0</td>\n",
       "      <td>12,000.0</td>\n",
       "      <td>837,000,000.0</td>\n",
       "    </tr>\n",
       "    <tr>\n",
       "      <th>8</th>\n",
       "      <td>12,000.0</td>\n",
       "      <td>BANDUNG</td>\n",
       "      <td>CC</td>\n",
       "      <td>60,000.0</td>\n",
       "      <td>70,000.0</td>\n",
       "      <td>55,000.0</td>\n",
       "      <td>3,500.0</td>\n",
       "      <td>3,500.0</td>\n",
       "      <td>2,200.0</td>\n",
       "      <td>56,500.0</td>\n",
       "      <td>66,500.0</td>\n",
       "      <td>52,800.0</td>\n",
       "      <td>678,000,000.0</td>\n",
       "      <td>798,000,000.0</td>\n",
       "      <td>633,600,000.0</td>\n",
       "      <td>20,000.0</td>\n",
       "      <td>10,000.0</td>\n",
       "      <td>27,000.0</td>\n",
       "      <td>798,000,000.0</td>\n",
       "    </tr>\n",
       "    <tr>\n",
       "      <th>9</th>\n",
       "      <td>10,500.0</td>\n",
       "      <td>YOGYA</td>\n",
       "      <td>CC</td>\n",
       "      <td>60,000.0</td>\n",
       "      <td>70,000.0</td>\n",
       "      <td>55,000.0</td>\n",
       "      <td>2,500.0</td>\n",
       "      <td>2,100.0</td>\n",
       "      <td>4,200.0</td>\n",
       "      <td>57,500.0</td>\n",
       "      <td>67,900.0</td>\n",
       "      <td>50,800.0</td>\n",
       "      <td>603,750,000.0</td>\n",
       "      <td>712,950,000.0</td>\n",
       "      <td>533,400,000.0</td>\n",
       "      <td>20,000.0</td>\n",
       "      <td>10,000.0</td>\n",
       "      <td>27,000.0</td>\n",
       "      <td>712,950,000.0</td>\n",
       "    </tr>\n",
       "    <tr>\n",
       "      <th>3</th>\n",
       "      <td>12,000.0</td>\n",
       "      <td>JAKARTA</td>\n",
       "      <td>AA</td>\n",
       "      <td>50,000.0</td>\n",
       "      <td>50,000.0</td>\n",
       "      <td>60,000.0</td>\n",
       "      <td>3,000.0</td>\n",
       "      <td>3,600.0</td>\n",
       "      <td>4,200.0</td>\n",
       "      <td>47,000.0</td>\n",
       "      <td>46,400.0</td>\n",
       "      <td>55,800.0</td>\n",
       "      <td>564,000,000.0</td>\n",
       "      <td>556,800,000.0</td>\n",
       "      <td>669,600,000.0</td>\n",
       "      <td>15,000.0</td>\n",
       "      <td>20,000.0</td>\n",
       "      <td>12,000.0</td>\n",
       "      <td>669,600,000.0</td>\n",
       "    </tr>\n",
       "    <tr>\n",
       "      <th>11</th>\n",
       "      <td>10,000.0</td>\n",
       "      <td>JAKARTA</td>\n",
       "      <td>CC</td>\n",
       "      <td>60,000.0</td>\n",
       "      <td>70,000.0</td>\n",
       "      <td>55,000.0</td>\n",
       "      <td>3,000.0</td>\n",
       "      <td>3,600.0</td>\n",
       "      <td>4,200.0</td>\n",
       "      <td>57,000.0</td>\n",
       "      <td>66,400.0</td>\n",
       "      <td>50,800.0</td>\n",
       "      <td>570,000,000.0</td>\n",
       "      <td>664,000,000.0</td>\n",
       "      <td>508,000,000.0</td>\n",
       "      <td>20,000.0</td>\n",
       "      <td>10,000.0</td>\n",
       "      <td>27,000.0</td>\n",
       "      <td>664,000,000.0</td>\n",
       "    </tr>\n",
       "    <tr>\n",
       "      <th>10</th>\n",
       "      <td>9,000.0</td>\n",
       "      <td>MALANG</td>\n",
       "      <td>CC</td>\n",
       "      <td>60,000.0</td>\n",
       "      <td>70,000.0</td>\n",
       "      <td>55,000.0</td>\n",
       "      <td>3,000.0</td>\n",
       "      <td>3,100.0</td>\n",
       "      <td>3,200.0</td>\n",
       "      <td>57,000.0</td>\n",
       "      <td>66,900.0</td>\n",
       "      <td>51,800.0</td>\n",
       "      <td>513,000,000.0</td>\n",
       "      <td>602,100,000.0</td>\n",
       "      <td>466,200,000.0</td>\n",
       "      <td>20,000.0</td>\n",
       "      <td>10,000.0</td>\n",
       "      <td>27,000.0</td>\n",
       "      <td>602,100,000.0</td>\n",
       "    </tr>\n",
       "    <tr>\n",
       "      <th>4</th>\n",
       "      <td>12,000.0</td>\n",
       "      <td>BANDUNG</td>\n",
       "      <td>BB</td>\n",
       "      <td>45,000.0</td>\n",
       "      <td>50,000.0</td>\n",
       "      <td>45,000.0</td>\n",
       "      <td>3,500.0</td>\n",
       "      <td>3,500.0</td>\n",
       "      <td>2,200.0</td>\n",
       "      <td>41,500.0</td>\n",
       "      <td>46,500.0</td>\n",
       "      <td>42,800.0</td>\n",
       "      <td>498,000,000.0</td>\n",
       "      <td>558,000,000.0</td>\n",
       "      <td>513,600,000.0</td>\n",
       "      <td>22,000.0</td>\n",
       "      <td>15,000.0</td>\n",
       "      <td>15,000.0</td>\n",
       "      <td>558,000,000.0</td>\n",
       "    </tr>\n",
       "    <tr>\n",
       "      <th>5</th>\n",
       "      <td>11,000.0</td>\n",
       "      <td>YOGYA</td>\n",
       "      <td>BB</td>\n",
       "      <td>45,000.0</td>\n",
       "      <td>50,000.0</td>\n",
       "      <td>45,000.0</td>\n",
       "      <td>2,500.0</td>\n",
       "      <td>2,100.0</td>\n",
       "      <td>4,200.0</td>\n",
       "      <td>42,500.0</td>\n",
       "      <td>47,900.0</td>\n",
       "      <td>40,800.0</td>\n",
       "      <td>467,500,000.0</td>\n",
       "      <td>526,900,000.0</td>\n",
       "      <td>448,800,000.0</td>\n",
       "      <td>22,000.0</td>\n",
       "      <td>15,000.0</td>\n",
       "      <td>15,000.0</td>\n",
       "      <td>526,900,000.0</td>\n",
       "    </tr>\n",
       "    <tr>\n",
       "      <th>6</th>\n",
       "      <td>8,500.0</td>\n",
       "      <td>MALANG</td>\n",
       "      <td>BB</td>\n",
       "      <td>45,000.0</td>\n",
       "      <td>50,000.0</td>\n",
       "      <td>45,000.0</td>\n",
       "      <td>3,000.0</td>\n",
       "      <td>3,100.0</td>\n",
       "      <td>3,200.0</td>\n",
       "      <td>42,000.0</td>\n",
       "      <td>46,900.0</td>\n",
       "      <td>41,800.0</td>\n",
       "      <td>357,000,000.0</td>\n",
       "      <td>398,650,000.0</td>\n",
       "      <td>355,300,000.0</td>\n",
       "      <td>22,000.0</td>\n",
       "      <td>15,000.0</td>\n",
       "      <td>15,000.0</td>\n",
       "      <td>398,650,000.0</td>\n",
       "    </tr>\n",
       "    <tr>\n",
       "      <th>7</th>\n",
       "      <td>7,000.0</td>\n",
       "      <td>JAKARTA</td>\n",
       "      <td>BB</td>\n",
       "      <td>45,000.0</td>\n",
       "      <td>50,000.0</td>\n",
       "      <td>45,000.0</td>\n",
       "      <td>3,000.0</td>\n",
       "      <td>3,600.0</td>\n",
       "      <td>4,200.0</td>\n",
       "      <td>42,000.0</td>\n",
       "      <td>46,400.0</td>\n",
       "      <td>40,800.0</td>\n",
       "      <td>294,000,000.0</td>\n",
       "      <td>324,800,000.0</td>\n",
       "      <td>285,600,000.0</td>\n",
       "      <td>22,000.0</td>\n",
       "      <td>15,000.0</td>\n",
       "      <td>15,000.0</td>\n",
       "      <td>324,800,000.0</td>\n",
       "    </tr>\n",
       "  </tbody>\n",
       "</table>\n",
       "</div>"
      ],
      "text/plain": [
       "     DEMAND     KOTA JENIS_ITEM  Index Margin Plant1  Index Margin Plant2  \\\n",
       "0  20,000.0  BANDUNG         AA             50,000.0             50,000.0   \n",
       "2  15,000.0   MALANG         AA             50,000.0             50,000.0   \n",
       "1  15,000.0    YOGYA         AA             50,000.0             50,000.0   \n",
       "8  12,000.0  BANDUNG         CC             60,000.0             70,000.0   \n",
       "9  10,500.0    YOGYA         CC             60,000.0             70,000.0   \n",
       "3  12,000.0  JAKARTA         AA             50,000.0             50,000.0   \n",
       "11 10,000.0  JAKARTA         CC             60,000.0             70,000.0   \n",
       "10  9,000.0   MALANG         CC             60,000.0             70,000.0   \n",
       "4  12,000.0  BANDUNG         BB             45,000.0             50,000.0   \n",
       "5  11,000.0    YOGYA         BB             45,000.0             50,000.0   \n",
       "6   8,500.0   MALANG         BB             45,000.0             50,000.0   \n",
       "7   7,000.0  JAKARTA         BB             45,000.0             50,000.0   \n",
       "\n",
       "    Index Margin Plant3  Cost Plant1  Cost Plant2  Cost Plant3  \\\n",
       "0              60,000.0      3,500.0      3,500.0      2,200.0   \n",
       "2              60,000.0      3,000.0      3,100.0      3,200.0   \n",
       "1              60,000.0      2,500.0      2,100.0      4,200.0   \n",
       "8              55,000.0      3,500.0      3,500.0      2,200.0   \n",
       "9              55,000.0      2,500.0      2,100.0      4,200.0   \n",
       "3              60,000.0      3,000.0      3,600.0      4,200.0   \n",
       "11             55,000.0      3,000.0      3,600.0      4,200.0   \n",
       "10             55,000.0      3,000.0      3,100.0      3,200.0   \n",
       "4              45,000.0      3,500.0      3,500.0      2,200.0   \n",
       "5              45,000.0      2,500.0      2,100.0      4,200.0   \n",
       "6              45,000.0      3,000.0      3,100.0      3,200.0   \n",
       "7              45,000.0      3,000.0      3,600.0      4,200.0   \n",
       "\n",
       "    Single Nett Margin Plant1  Single Nett Margin Plant2  \\\n",
       "0                    46,500.0                   46,500.0   \n",
       "2                    47,000.0                   46,900.0   \n",
       "1                    47,500.0                   47,900.0   \n",
       "8                    56,500.0                   66,500.0   \n",
       "9                    57,500.0                   67,900.0   \n",
       "3                    47,000.0                   46,400.0   \n",
       "11                   57,000.0                   66,400.0   \n",
       "10                   57,000.0                   66,900.0   \n",
       "4                    41,500.0                   46,500.0   \n",
       "5                    42,500.0                   47,900.0   \n",
       "6                    42,000.0                   46,900.0   \n",
       "7                    42,000.0                   46,400.0   \n",
       "\n",
       "    Single Nett Margin Plant3  Total Nett Margin Plant1  \\\n",
       "0                    57,800.0             930,000,000.0   \n",
       "2                    56,800.0             705,000,000.0   \n",
       "1                    55,800.0             712,500,000.0   \n",
       "8                    52,800.0             678,000,000.0   \n",
       "9                    50,800.0             603,750,000.0   \n",
       "3                    55,800.0             564,000,000.0   \n",
       "11                   50,800.0             570,000,000.0   \n",
       "10                   51,800.0             513,000,000.0   \n",
       "4                    42,800.0             498,000,000.0   \n",
       "5                    40,800.0             467,500,000.0   \n",
       "6                    41,800.0             357,000,000.0   \n",
       "7                    40,800.0             294,000,000.0   \n",
       "\n",
       "    Total Nett Margin Plant2  Total Nett Margin Plant3  Capacity Plant1  \\\n",
       "0              930,000,000.0           1,156,000,000.0         15,000.0   \n",
       "2              703,500,000.0             852,000,000.0         15,000.0   \n",
       "1              718,500,000.0             837,000,000.0         15,000.0   \n",
       "8              798,000,000.0             633,600,000.0         20,000.0   \n",
       "9              712,950,000.0             533,400,000.0         20,000.0   \n",
       "3              556,800,000.0             669,600,000.0         15,000.0   \n",
       "11             664,000,000.0             508,000,000.0         20,000.0   \n",
       "10             602,100,000.0             466,200,000.0         20,000.0   \n",
       "4              558,000,000.0             513,600,000.0         22,000.0   \n",
       "5              526,900,000.0             448,800,000.0         22,000.0   \n",
       "6              398,650,000.0             355,300,000.0         22,000.0   \n",
       "7              324,800,000.0             285,600,000.0         22,000.0   \n",
       "\n",
       "    Capacity Plant2  Capacity Plant3  Max Total Nett Margin  \n",
       "0          20,000.0         12,000.0        1,156,000,000.0  \n",
       "2          20,000.0         12,000.0          852,000,000.0  \n",
       "1          20,000.0         12,000.0          837,000,000.0  \n",
       "8          10,000.0         27,000.0          798,000,000.0  \n",
       "9          10,000.0         27,000.0          712,950,000.0  \n",
       "3          20,000.0         12,000.0          669,600,000.0  \n",
       "11         10,000.0         27,000.0          664,000,000.0  \n",
       "10         10,000.0         27,000.0          602,100,000.0  \n",
       "4          15,000.0         15,000.0          558,000,000.0  \n",
       "5          15,000.0         15,000.0          526,900,000.0  \n",
       "6          15,000.0         15,000.0          398,650,000.0  \n",
       "7          15,000.0         15,000.0          324,800,000.0  "
      ]
     },
     "execution_count": 154,
     "metadata": {},
     "output_type": "execute_result"
    }
   ],
   "source": [
    "result_df"
   ]
  },
  {
   "cell_type": "markdown",
   "id": "ac05a367-e5b7-45ce-90f2-bbd2b4c2d69b",
   "metadata": {
    "tags": []
   },
   "source": [
    "<h2>Distributing Demands to Plants based on Capacity and Maximizing Gainable Total NETT Margin</h2>"
   ]
  },
  {
   "cell_type": "markdown",
   "id": "cde79f61-c94a-4602-842d-57e127a3cb2f",
   "metadata": {},
   "source": [
    "<p>The distribution for calculating optimization for Total NETT Margin should follow these rules</p>\n",
    "\n",
    "<ol>\n",
    "    <li><b>The best NETT Margin should be distributed first</b></li>\n",
    "    <li><b>Demand should meet constraints</b></li>\n",
    "    <li><b>Ascending plan</b></li>\n",
    "</ol>\n",
    "\n",
    "<p>Based on the priorities, the best function to distribute the product among plants will be:</p>"
   ]
  },
  {
   "cell_type": "code",
   "execution_count": 155,
   "id": "2629aa91-968d-4144-baf6-635cce77803f",
   "metadata": {},
   "outputs": [
    {
     "name": "stderr",
     "output_type": "stream",
     "text": [
      "C:\\Users\\Phillbert Nevin E\\AppData\\Local\\Temp\\ipykernel_10292\\1471885937.py:22: FutureWarning:\n",
      "\n",
      "The behavior of DataFrame concatenation with empty or all-NA entries is deprecated. In a future version, this will no longer exclude empty or all-NA columns when determining the result dtypes. To retain the old behavior, exclude the relevant entries before the concat operation.\n",
      "\n"
     ]
    }
   ],
   "source": [
    "#creating designated columns for distribution\n",
    "distribution = pd.DataFrame(columns=['KOTA', 'JENIS_ITEM', 'Distribution Plant1', 'Distribution Plant2', 'Distribution Plant3', 'Balance'])\n",
    "\n",
    "for _, row in result_df.iterrows():\n",
    "    city, product, demand = row['KOTA'], row['JENIS_ITEM'], row['DEMAND']\n",
    "    capacities = [row['Capacity Plant1'], row['Capacity Plant2'], row['Capacity Plant3']]\n",
    "    nett_margins = [row['Single Nett Margin Plant1'], row['Single Nett Margin Plant2'], row['Single Nett Margin Plant3']]\n",
    "    \n",
    "    distribution_row = {'KOTA': city, 'JENIS_ITEM': product, 'Distribution Plant1': 0, 'Distribution Plant2': 0, 'Distribution Plant3': 0, 'Balance': 0}\n",
    "    \n",
    "    #allocate based on the priorities\n",
    "    sorted_indices = np.argsort(nett_margins)[::-1]  #best NETT Margin First Distributed\n",
    "    for i in sorted_indices:\n",
    "        if demand <= 0:\n",
    "            break\n",
    "        allocation = min(demand, capacities[i])\n",
    "        distribution_row[f'Distribution Plant{i+1}'] = allocation\n",
    "        capacities[i] -= allocation\n",
    "        demand -= allocation\n",
    "    \n",
    "    distribution_row['Balance'] = demand\n",
    "    distribution = pd.concat([distribution, pd.DataFrame([distribution_row])], ignore_index=True)"
   ]
  },
  {
   "cell_type": "code",
   "execution_count": 156,
   "id": "7ccfc6df-62e4-4ac3-9363-d468dfb87465",
   "metadata": {
    "tags": []
   },
   "outputs": [],
   "source": [
    "#merge the distribution result back to the result_df\n",
    "result_df = result_df.merge(distribution, on=['KOTA', 'JENIS_ITEM'])"
   ]
  },
  {
   "cell_type": "code",
   "execution_count": 157,
   "id": "40dcd764-d0ac-4ae7-95d6-d461289e6c85",
   "metadata": {
    "tags": []
   },
   "outputs": [],
   "source": [
    "#calculate the total nett margins based on the distribution\n",
    "for i in range(1, 4):\n",
    "    result_df[f'Total Nett Margin Plant{i}'] = result_df[f'Distribution Plant{i}'] * result_df[f'Single Nett Margin Plant{i}']"
   ]
  },
  {
   "cell_type": "code",
   "execution_count": 158,
   "id": "83593bb8-50a0-42dc-b317-27e51e30afe9",
   "metadata": {
    "tags": []
   },
   "outputs": [
    {
     "data": {
      "text/html": [
       "<div>\n",
       "<style scoped>\n",
       "    .dataframe tbody tr th:only-of-type {\n",
       "        vertical-align: middle;\n",
       "    }\n",
       "\n",
       "    .dataframe tbody tr th {\n",
       "        vertical-align: top;\n",
       "    }\n",
       "\n",
       "    .dataframe thead th {\n",
       "        text-align: right;\n",
       "    }\n",
       "</style>\n",
       "<table border=\"1\" class=\"dataframe\">\n",
       "  <thead>\n",
       "    <tr style=\"text-align: right;\">\n",
       "      <th></th>\n",
       "      <th>DEMAND</th>\n",
       "      <th>KOTA</th>\n",
       "      <th>JENIS_ITEM</th>\n",
       "      <th>Index Margin Plant1</th>\n",
       "      <th>Index Margin Plant2</th>\n",
       "      <th>Index Margin Plant3</th>\n",
       "      <th>Cost Plant1</th>\n",
       "      <th>Cost Plant2</th>\n",
       "      <th>Cost Plant3</th>\n",
       "      <th>Single Nett Margin Plant1</th>\n",
       "      <th>Single Nett Margin Plant2</th>\n",
       "      <th>Single Nett Margin Plant3</th>\n",
       "      <th>Total Nett Margin Plant1</th>\n",
       "      <th>Total Nett Margin Plant2</th>\n",
       "      <th>Total Nett Margin Plant3</th>\n",
       "      <th>Capacity Plant1</th>\n",
       "      <th>Capacity Plant2</th>\n",
       "      <th>Capacity Plant3</th>\n",
       "      <th>Max Total Nett Margin</th>\n",
       "      <th>Distribution Plant1</th>\n",
       "      <th>Distribution Plant2</th>\n",
       "      <th>Distribution Plant3</th>\n",
       "      <th>Balance</th>\n",
       "    </tr>\n",
       "  </thead>\n",
       "  <tbody>\n",
       "    <tr>\n",
       "      <th>0</th>\n",
       "      <td>20,000.0</td>\n",
       "      <td>BANDUNG</td>\n",
       "      <td>AA</td>\n",
       "      <td>50,000.0</td>\n",
       "      <td>50,000.0</td>\n",
       "      <td>60,000.0</td>\n",
       "      <td>3,500.0</td>\n",
       "      <td>3,500.0</td>\n",
       "      <td>2,200.0</td>\n",
       "      <td>46,500.0</td>\n",
       "      <td>46,500.0</td>\n",
       "      <td>57,800.0</td>\n",
       "      <td>0.0</td>\n",
       "      <td>372,000,000.0</td>\n",
       "      <td>693,600,000.0</td>\n",
       "      <td>15,000.0</td>\n",
       "      <td>20,000.0</td>\n",
       "      <td>12,000.0</td>\n",
       "      <td>1,156,000,000.0</td>\n",
       "      <td>0</td>\n",
       "      <td>8,000.0</td>\n",
       "      <td>12,000.0</td>\n",
       "      <td>0.0</td>\n",
       "    </tr>\n",
       "    <tr>\n",
       "      <th>1</th>\n",
       "      <td>15,000.0</td>\n",
       "      <td>MALANG</td>\n",
       "      <td>AA</td>\n",
       "      <td>50,000.0</td>\n",
       "      <td>50,000.0</td>\n",
       "      <td>60,000.0</td>\n",
       "      <td>3,000.0</td>\n",
       "      <td>3,100.0</td>\n",
       "      <td>3,200.0</td>\n",
       "      <td>47,000.0</td>\n",
       "      <td>46,900.0</td>\n",
       "      <td>56,800.0</td>\n",
       "      <td>141,000,000.0</td>\n",
       "      <td>0.0</td>\n",
       "      <td>681,600,000.0</td>\n",
       "      <td>15,000.0</td>\n",
       "      <td>20,000.0</td>\n",
       "      <td>12,000.0</td>\n",
       "      <td>852,000,000.0</td>\n",
       "      <td>3,000.0</td>\n",
       "      <td>0.0</td>\n",
       "      <td>12,000.0</td>\n",
       "      <td>0.0</td>\n",
       "    </tr>\n",
       "    <tr>\n",
       "      <th>2</th>\n",
       "      <td>15,000.0</td>\n",
       "      <td>YOGYA</td>\n",
       "      <td>AA</td>\n",
       "      <td>50,000.0</td>\n",
       "      <td>50,000.0</td>\n",
       "      <td>60,000.0</td>\n",
       "      <td>2,500.0</td>\n",
       "      <td>2,100.0</td>\n",
       "      <td>4,200.0</td>\n",
       "      <td>47,500.0</td>\n",
       "      <td>47,900.0</td>\n",
       "      <td>55,800.0</td>\n",
       "      <td>0.0</td>\n",
       "      <td>143,700,000.0</td>\n",
       "      <td>669,600,000.0</td>\n",
       "      <td>15,000.0</td>\n",
       "      <td>20,000.0</td>\n",
       "      <td>12,000.0</td>\n",
       "      <td>837,000,000.0</td>\n",
       "      <td>0</td>\n",
       "      <td>3,000.0</td>\n",
       "      <td>12,000.0</td>\n",
       "      <td>0.0</td>\n",
       "    </tr>\n",
       "    <tr>\n",
       "      <th>3</th>\n",
       "      <td>12,000.0</td>\n",
       "      <td>BANDUNG</td>\n",
       "      <td>CC</td>\n",
       "      <td>60,000.0</td>\n",
       "      <td>70,000.0</td>\n",
       "      <td>55,000.0</td>\n",
       "      <td>3,500.0</td>\n",
       "      <td>3,500.0</td>\n",
       "      <td>2,200.0</td>\n",
       "      <td>56,500.0</td>\n",
       "      <td>66,500.0</td>\n",
       "      <td>52,800.0</td>\n",
       "      <td>113,000,000.0</td>\n",
       "      <td>665,000,000.0</td>\n",
       "      <td>0.0</td>\n",
       "      <td>20,000.0</td>\n",
       "      <td>10,000.0</td>\n",
       "      <td>27,000.0</td>\n",
       "      <td>798,000,000.0</td>\n",
       "      <td>2,000.0</td>\n",
       "      <td>10,000.0</td>\n",
       "      <td>0.0</td>\n",
       "      <td>0.0</td>\n",
       "    </tr>\n",
       "    <tr>\n",
       "      <th>4</th>\n",
       "      <td>10,500.0</td>\n",
       "      <td>YOGYA</td>\n",
       "      <td>CC</td>\n",
       "      <td>60,000.0</td>\n",
       "      <td>70,000.0</td>\n",
       "      <td>55,000.0</td>\n",
       "      <td>2,500.0</td>\n",
       "      <td>2,100.0</td>\n",
       "      <td>4,200.0</td>\n",
       "      <td>57,500.0</td>\n",
       "      <td>67,900.0</td>\n",
       "      <td>50,800.0</td>\n",
       "      <td>28,750,000.0</td>\n",
       "      <td>679,000,000.0</td>\n",
       "      <td>0.0</td>\n",
       "      <td>20,000.0</td>\n",
       "      <td>10,000.0</td>\n",
       "      <td>27,000.0</td>\n",
       "      <td>712,950,000.0</td>\n",
       "      <td>500.0</td>\n",
       "      <td>10,000.0</td>\n",
       "      <td>0.0</td>\n",
       "      <td>0.0</td>\n",
       "    </tr>\n",
       "    <tr>\n",
       "      <th>5</th>\n",
       "      <td>12,000.0</td>\n",
       "      <td>JAKARTA</td>\n",
       "      <td>AA</td>\n",
       "      <td>50,000.0</td>\n",
       "      <td>50,000.0</td>\n",
       "      <td>60,000.0</td>\n",
       "      <td>3,000.0</td>\n",
       "      <td>3,600.0</td>\n",
       "      <td>4,200.0</td>\n",
       "      <td>47,000.0</td>\n",
       "      <td>46,400.0</td>\n",
       "      <td>55,800.0</td>\n",
       "      <td>0.0</td>\n",
       "      <td>0.0</td>\n",
       "      <td>669,600,000.0</td>\n",
       "      <td>15,000.0</td>\n",
       "      <td>20,000.0</td>\n",
       "      <td>12,000.0</td>\n",
       "      <td>669,600,000.0</td>\n",
       "      <td>0</td>\n",
       "      <td>0.0</td>\n",
       "      <td>12,000.0</td>\n",
       "      <td>0.0</td>\n",
       "    </tr>\n",
       "    <tr>\n",
       "      <th>6</th>\n",
       "      <td>10,000.0</td>\n",
       "      <td>JAKARTA</td>\n",
       "      <td>CC</td>\n",
       "      <td>60,000.0</td>\n",
       "      <td>70,000.0</td>\n",
       "      <td>55,000.0</td>\n",
       "      <td>3,000.0</td>\n",
       "      <td>3,600.0</td>\n",
       "      <td>4,200.0</td>\n",
       "      <td>57,000.0</td>\n",
       "      <td>66,400.0</td>\n",
       "      <td>50,800.0</td>\n",
       "      <td>0.0</td>\n",
       "      <td>664,000,000.0</td>\n",
       "      <td>0.0</td>\n",
       "      <td>20,000.0</td>\n",
       "      <td>10,000.0</td>\n",
       "      <td>27,000.0</td>\n",
       "      <td>664,000,000.0</td>\n",
       "      <td>0</td>\n",
       "      <td>10,000.0</td>\n",
       "      <td>0.0</td>\n",
       "      <td>0.0</td>\n",
       "    </tr>\n",
       "    <tr>\n",
       "      <th>7</th>\n",
       "      <td>9,000.0</td>\n",
       "      <td>MALANG</td>\n",
       "      <td>CC</td>\n",
       "      <td>60,000.0</td>\n",
       "      <td>70,000.0</td>\n",
       "      <td>55,000.0</td>\n",
       "      <td>3,000.0</td>\n",
       "      <td>3,100.0</td>\n",
       "      <td>3,200.0</td>\n",
       "      <td>57,000.0</td>\n",
       "      <td>66,900.0</td>\n",
       "      <td>51,800.0</td>\n",
       "      <td>0.0</td>\n",
       "      <td>602,100,000.0</td>\n",
       "      <td>0.0</td>\n",
       "      <td>20,000.0</td>\n",
       "      <td>10,000.0</td>\n",
       "      <td>27,000.0</td>\n",
       "      <td>602,100,000.0</td>\n",
       "      <td>0</td>\n",
       "      <td>9,000.0</td>\n",
       "      <td>0.0</td>\n",
       "      <td>0.0</td>\n",
       "    </tr>\n",
       "    <tr>\n",
       "      <th>8</th>\n",
       "      <td>12,000.0</td>\n",
       "      <td>BANDUNG</td>\n",
       "      <td>BB</td>\n",
       "      <td>45,000.0</td>\n",
       "      <td>50,000.0</td>\n",
       "      <td>45,000.0</td>\n",
       "      <td>3,500.0</td>\n",
       "      <td>3,500.0</td>\n",
       "      <td>2,200.0</td>\n",
       "      <td>41,500.0</td>\n",
       "      <td>46,500.0</td>\n",
       "      <td>42,800.0</td>\n",
       "      <td>0.0</td>\n",
       "      <td>558,000,000.0</td>\n",
       "      <td>0.0</td>\n",
       "      <td>22,000.0</td>\n",
       "      <td>15,000.0</td>\n",
       "      <td>15,000.0</td>\n",
       "      <td>558,000,000.0</td>\n",
       "      <td>0</td>\n",
       "      <td>12,000.0</td>\n",
       "      <td>0.0</td>\n",
       "      <td>0.0</td>\n",
       "    </tr>\n",
       "    <tr>\n",
       "      <th>9</th>\n",
       "      <td>11,000.0</td>\n",
       "      <td>YOGYA</td>\n",
       "      <td>BB</td>\n",
       "      <td>45,000.0</td>\n",
       "      <td>50,000.0</td>\n",
       "      <td>45,000.0</td>\n",
       "      <td>2,500.0</td>\n",
       "      <td>2,100.0</td>\n",
       "      <td>4,200.0</td>\n",
       "      <td>42,500.0</td>\n",
       "      <td>47,900.0</td>\n",
       "      <td>40,800.0</td>\n",
       "      <td>0.0</td>\n",
       "      <td>526,900,000.0</td>\n",
       "      <td>0.0</td>\n",
       "      <td>22,000.0</td>\n",
       "      <td>15,000.0</td>\n",
       "      <td>15,000.0</td>\n",
       "      <td>526,900,000.0</td>\n",
       "      <td>0</td>\n",
       "      <td>11,000.0</td>\n",
       "      <td>0.0</td>\n",
       "      <td>0.0</td>\n",
       "    </tr>\n",
       "    <tr>\n",
       "      <th>10</th>\n",
       "      <td>8,500.0</td>\n",
       "      <td>MALANG</td>\n",
       "      <td>BB</td>\n",
       "      <td>45,000.0</td>\n",
       "      <td>50,000.0</td>\n",
       "      <td>45,000.0</td>\n",
       "      <td>3,000.0</td>\n",
       "      <td>3,100.0</td>\n",
       "      <td>3,200.0</td>\n",
       "      <td>42,000.0</td>\n",
       "      <td>46,900.0</td>\n",
       "      <td>41,800.0</td>\n",
       "      <td>0.0</td>\n",
       "      <td>398,650,000.0</td>\n",
       "      <td>0.0</td>\n",
       "      <td>22,000.0</td>\n",
       "      <td>15,000.0</td>\n",
       "      <td>15,000.0</td>\n",
       "      <td>398,650,000.0</td>\n",
       "      <td>0</td>\n",
       "      <td>8,500.0</td>\n",
       "      <td>0.0</td>\n",
       "      <td>0.0</td>\n",
       "    </tr>\n",
       "    <tr>\n",
       "      <th>11</th>\n",
       "      <td>7,000.0</td>\n",
       "      <td>JAKARTA</td>\n",
       "      <td>BB</td>\n",
       "      <td>45,000.0</td>\n",
       "      <td>50,000.0</td>\n",
       "      <td>45,000.0</td>\n",
       "      <td>3,000.0</td>\n",
       "      <td>3,600.0</td>\n",
       "      <td>4,200.0</td>\n",
       "      <td>42,000.0</td>\n",
       "      <td>46,400.0</td>\n",
       "      <td>40,800.0</td>\n",
       "      <td>0.0</td>\n",
       "      <td>324,800,000.0</td>\n",
       "      <td>0.0</td>\n",
       "      <td>22,000.0</td>\n",
       "      <td>15,000.0</td>\n",
       "      <td>15,000.0</td>\n",
       "      <td>324,800,000.0</td>\n",
       "      <td>0</td>\n",
       "      <td>7,000.0</td>\n",
       "      <td>0.0</td>\n",
       "      <td>0.0</td>\n",
       "    </tr>\n",
       "  </tbody>\n",
       "</table>\n",
       "</div>"
      ],
      "text/plain": [
       "     DEMAND     KOTA JENIS_ITEM  Index Margin Plant1  Index Margin Plant2  \\\n",
       "0  20,000.0  BANDUNG         AA             50,000.0             50,000.0   \n",
       "1  15,000.0   MALANG         AA             50,000.0             50,000.0   \n",
       "2  15,000.0    YOGYA         AA             50,000.0             50,000.0   \n",
       "3  12,000.0  BANDUNG         CC             60,000.0             70,000.0   \n",
       "4  10,500.0    YOGYA         CC             60,000.0             70,000.0   \n",
       "5  12,000.0  JAKARTA         AA             50,000.0             50,000.0   \n",
       "6  10,000.0  JAKARTA         CC             60,000.0             70,000.0   \n",
       "7   9,000.0   MALANG         CC             60,000.0             70,000.0   \n",
       "8  12,000.0  BANDUNG         BB             45,000.0             50,000.0   \n",
       "9  11,000.0    YOGYA         BB             45,000.0             50,000.0   \n",
       "10  8,500.0   MALANG         BB             45,000.0             50,000.0   \n",
       "11  7,000.0  JAKARTA         BB             45,000.0             50,000.0   \n",
       "\n",
       "    Index Margin Plant3  Cost Plant1  Cost Plant2  Cost Plant3  \\\n",
       "0              60,000.0      3,500.0      3,500.0      2,200.0   \n",
       "1              60,000.0      3,000.0      3,100.0      3,200.0   \n",
       "2              60,000.0      2,500.0      2,100.0      4,200.0   \n",
       "3              55,000.0      3,500.0      3,500.0      2,200.0   \n",
       "4              55,000.0      2,500.0      2,100.0      4,200.0   \n",
       "5              60,000.0      3,000.0      3,600.0      4,200.0   \n",
       "6              55,000.0      3,000.0      3,600.0      4,200.0   \n",
       "7              55,000.0      3,000.0      3,100.0      3,200.0   \n",
       "8              45,000.0      3,500.0      3,500.0      2,200.0   \n",
       "9              45,000.0      2,500.0      2,100.0      4,200.0   \n",
       "10             45,000.0      3,000.0      3,100.0      3,200.0   \n",
       "11             45,000.0      3,000.0      3,600.0      4,200.0   \n",
       "\n",
       "    Single Nett Margin Plant1  Single Nett Margin Plant2  \\\n",
       "0                    46,500.0                   46,500.0   \n",
       "1                    47,000.0                   46,900.0   \n",
       "2                    47,500.0                   47,900.0   \n",
       "3                    56,500.0                   66,500.0   \n",
       "4                    57,500.0                   67,900.0   \n",
       "5                    47,000.0                   46,400.0   \n",
       "6                    57,000.0                   66,400.0   \n",
       "7                    57,000.0                   66,900.0   \n",
       "8                    41,500.0                   46,500.0   \n",
       "9                    42,500.0                   47,900.0   \n",
       "10                   42,000.0                   46,900.0   \n",
       "11                   42,000.0                   46,400.0   \n",
       "\n",
       "    Single Nett Margin Plant3 Total Nett Margin Plant1  \\\n",
       "0                    57,800.0                      0.0   \n",
       "1                    56,800.0            141,000,000.0   \n",
       "2                    55,800.0                      0.0   \n",
       "3                    52,800.0            113,000,000.0   \n",
       "4                    50,800.0             28,750,000.0   \n",
       "5                    55,800.0                      0.0   \n",
       "6                    50,800.0                      0.0   \n",
       "7                    51,800.0                      0.0   \n",
       "8                    42,800.0                      0.0   \n",
       "9                    40,800.0                      0.0   \n",
       "10                   41,800.0                      0.0   \n",
       "11                   40,800.0                      0.0   \n",
       "\n",
       "    Total Nett Margin Plant2  Total Nett Margin Plant3  Capacity Plant1  \\\n",
       "0              372,000,000.0             693,600,000.0         15,000.0   \n",
       "1                        0.0             681,600,000.0         15,000.0   \n",
       "2              143,700,000.0             669,600,000.0         15,000.0   \n",
       "3              665,000,000.0                       0.0         20,000.0   \n",
       "4              679,000,000.0                       0.0         20,000.0   \n",
       "5                        0.0             669,600,000.0         15,000.0   \n",
       "6              664,000,000.0                       0.0         20,000.0   \n",
       "7              602,100,000.0                       0.0         20,000.0   \n",
       "8              558,000,000.0                       0.0         22,000.0   \n",
       "9              526,900,000.0                       0.0         22,000.0   \n",
       "10             398,650,000.0                       0.0         22,000.0   \n",
       "11             324,800,000.0                       0.0         22,000.0   \n",
       "\n",
       "    Capacity Plant2  Capacity Plant3  Max Total Nett Margin  \\\n",
       "0          20,000.0         12,000.0        1,156,000,000.0   \n",
       "1          20,000.0         12,000.0          852,000,000.0   \n",
       "2          20,000.0         12,000.0          837,000,000.0   \n",
       "3          10,000.0         27,000.0          798,000,000.0   \n",
       "4          10,000.0         27,000.0          712,950,000.0   \n",
       "5          20,000.0         12,000.0          669,600,000.0   \n",
       "6          10,000.0         27,000.0          664,000,000.0   \n",
       "7          10,000.0         27,000.0          602,100,000.0   \n",
       "8          15,000.0         15,000.0          558,000,000.0   \n",
       "9          15,000.0         15,000.0          526,900,000.0   \n",
       "10         15,000.0         15,000.0          398,650,000.0   \n",
       "11         15,000.0         15,000.0          324,800,000.0   \n",
       "\n",
       "   Distribution Plant1  Distribution Plant2  Distribution Plant3  Balance  \n",
       "0                    0              8,000.0             12,000.0      0.0  \n",
       "1              3,000.0                  0.0             12,000.0      0.0  \n",
       "2                    0              3,000.0             12,000.0      0.0  \n",
       "3              2,000.0             10,000.0                  0.0      0.0  \n",
       "4                500.0             10,000.0                  0.0      0.0  \n",
       "5                    0                  0.0             12,000.0      0.0  \n",
       "6                    0             10,000.0                  0.0      0.0  \n",
       "7                    0              9,000.0                  0.0      0.0  \n",
       "8                    0             12,000.0                  0.0      0.0  \n",
       "9                    0             11,000.0                  0.0      0.0  \n",
       "10                   0              8,500.0                  0.0      0.0  \n",
       "11                   0              7,000.0                  0.0      0.0  "
      ]
     },
     "execution_count": 158,
     "metadata": {},
     "output_type": "execute_result"
    }
   ],
   "source": [
    "#sorted by max_total_nett_margin\n",
    "result_df"
   ]
  },
  {
   "cell_type": "code",
   "execution_count": 137,
   "id": "fd931168-8218-4346-a447-d81a4fc7a950",
   "metadata": {
    "tags": []
   },
   "outputs": [
    {
     "data": {
      "text/html": [
       "<div>\n",
       "<style scoped>\n",
       "    .dataframe tbody tr th:only-of-type {\n",
       "        vertical-align: middle;\n",
       "    }\n",
       "\n",
       "    .dataframe tbody tr th {\n",
       "        vertical-align: top;\n",
       "    }\n",
       "\n",
       "    .dataframe thead th {\n",
       "        text-align: right;\n",
       "    }\n",
       "</style>\n",
       "<table border=\"1\" class=\"dataframe\">\n",
       "  <thead>\n",
       "    <tr style=\"text-align: right;\">\n",
       "      <th></th>\n",
       "      <th>DEMAND</th>\n",
       "      <th>KOTA</th>\n",
       "      <th>JENIS_ITEM</th>\n",
       "      <th>Index Margin Plant1</th>\n",
       "      <th>Index Margin Plant2</th>\n",
       "      <th>Index Margin Plant3</th>\n",
       "      <th>Cost Plant1</th>\n",
       "      <th>Cost Plant2</th>\n",
       "      <th>Cost Plant3</th>\n",
       "      <th>Single Nett Margin Plant1</th>\n",
       "      <th>Single Nett Margin Plant2</th>\n",
       "      <th>Single Nett Margin Plant3</th>\n",
       "      <th>Total Nett Margin Plant1</th>\n",
       "      <th>Total Nett Margin Plant2</th>\n",
       "      <th>Total Nett Margin Plant3</th>\n",
       "      <th>Capacity Plant1</th>\n",
       "      <th>Capacity Plant2</th>\n",
       "      <th>Capacity Plant3</th>\n",
       "      <th>Max Total Nett Margin</th>\n",
       "      <th>Distribution Plant1</th>\n",
       "      <th>Distribution Plant2</th>\n",
       "      <th>Distribution Plant3</th>\n",
       "      <th>Balance</th>\n",
       "    </tr>\n",
       "  </thead>\n",
       "  <tbody>\n",
       "    <tr>\n",
       "      <th>0</th>\n",
       "      <td>20,000.0</td>\n",
       "      <td>BANDUNG</td>\n",
       "      <td>AA</td>\n",
       "      <td>50,000.0</td>\n",
       "      <td>50,000.0</td>\n",
       "      <td>60,000.0</td>\n",
       "      <td>3,500.0</td>\n",
       "      <td>3,500.0</td>\n",
       "      <td>2,200.0</td>\n",
       "      <td>46,500.0</td>\n",
       "      <td>46,500.0</td>\n",
       "      <td>57,800.0</td>\n",
       "      <td>0.0</td>\n",
       "      <td>372,000,000.0</td>\n",
       "      <td>693,600,000.0</td>\n",
       "      <td>15,000.0</td>\n",
       "      <td>20,000.0</td>\n",
       "      <td>12,000.0</td>\n",
       "      <td>1,156,000,000.0</td>\n",
       "      <td>0</td>\n",
       "      <td>8,000.0</td>\n",
       "      <td>12,000.0</td>\n",
       "      <td>0.0</td>\n",
       "    </tr>\n",
       "    <tr>\n",
       "      <th>1</th>\n",
       "      <td>15,000.0</td>\n",
       "      <td>MALANG</td>\n",
       "      <td>AA</td>\n",
       "      <td>50,000.0</td>\n",
       "      <td>50,000.0</td>\n",
       "      <td>60,000.0</td>\n",
       "      <td>3,000.0</td>\n",
       "      <td>3,100.0</td>\n",
       "      <td>3,200.0</td>\n",
       "      <td>47,000.0</td>\n",
       "      <td>46,900.0</td>\n",
       "      <td>56,800.0</td>\n",
       "      <td>141,000,000.0</td>\n",
       "      <td>0.0</td>\n",
       "      <td>681,600,000.0</td>\n",
       "      <td>15,000.0</td>\n",
       "      <td>20,000.0</td>\n",
       "      <td>12,000.0</td>\n",
       "      <td>852,000,000.0</td>\n",
       "      <td>3,000.0</td>\n",
       "      <td>0.0</td>\n",
       "      <td>12,000.0</td>\n",
       "      <td>0.0</td>\n",
       "    </tr>\n",
       "    <tr>\n",
       "      <th>2</th>\n",
       "      <td>15,000.0</td>\n",
       "      <td>YOGYA</td>\n",
       "      <td>AA</td>\n",
       "      <td>50,000.0</td>\n",
       "      <td>50,000.0</td>\n",
       "      <td>60,000.0</td>\n",
       "      <td>2,500.0</td>\n",
       "      <td>2,100.0</td>\n",
       "      <td>4,200.0</td>\n",
       "      <td>47,500.0</td>\n",
       "      <td>47,900.0</td>\n",
       "      <td>55,800.0</td>\n",
       "      <td>0.0</td>\n",
       "      <td>143,700,000.0</td>\n",
       "      <td>669,600,000.0</td>\n",
       "      <td>15,000.0</td>\n",
       "      <td>20,000.0</td>\n",
       "      <td>12,000.0</td>\n",
       "      <td>837,000,000.0</td>\n",
       "      <td>0</td>\n",
       "      <td>3,000.0</td>\n",
       "      <td>12,000.0</td>\n",
       "      <td>0.0</td>\n",
       "    </tr>\n",
       "    <tr>\n",
       "      <th>5</th>\n",
       "      <td>12,000.0</td>\n",
       "      <td>JAKARTA</td>\n",
       "      <td>AA</td>\n",
       "      <td>50,000.0</td>\n",
       "      <td>50,000.0</td>\n",
       "      <td>60,000.0</td>\n",
       "      <td>3,000.0</td>\n",
       "      <td>3,600.0</td>\n",
       "      <td>4,200.0</td>\n",
       "      <td>47,000.0</td>\n",
       "      <td>46,400.0</td>\n",
       "      <td>55,800.0</td>\n",
       "      <td>0.0</td>\n",
       "      <td>0.0</td>\n",
       "      <td>669,600,000.0</td>\n",
       "      <td>15,000.0</td>\n",
       "      <td>20,000.0</td>\n",
       "      <td>12,000.0</td>\n",
       "      <td>669,600,000.0</td>\n",
       "      <td>0</td>\n",
       "      <td>0.0</td>\n",
       "      <td>12,000.0</td>\n",
       "      <td>0.0</td>\n",
       "    </tr>\n",
       "    <tr>\n",
       "      <th>8</th>\n",
       "      <td>12,000.0</td>\n",
       "      <td>BANDUNG</td>\n",
       "      <td>BB</td>\n",
       "      <td>45,000.0</td>\n",
       "      <td>50,000.0</td>\n",
       "      <td>45,000.0</td>\n",
       "      <td>3,500.0</td>\n",
       "      <td>3,500.0</td>\n",
       "      <td>2,200.0</td>\n",
       "      <td>41,500.0</td>\n",
       "      <td>46,500.0</td>\n",
       "      <td>42,800.0</td>\n",
       "      <td>0.0</td>\n",
       "      <td>558,000,000.0</td>\n",
       "      <td>0.0</td>\n",
       "      <td>22,000.0</td>\n",
       "      <td>15,000.0</td>\n",
       "      <td>15,000.0</td>\n",
       "      <td>558,000,000.0</td>\n",
       "      <td>0</td>\n",
       "      <td>12,000.0</td>\n",
       "      <td>0.0</td>\n",
       "      <td>0.0</td>\n",
       "    </tr>\n",
       "    <tr>\n",
       "      <th>9</th>\n",
       "      <td>11,000.0</td>\n",
       "      <td>YOGYA</td>\n",
       "      <td>BB</td>\n",
       "      <td>45,000.0</td>\n",
       "      <td>50,000.0</td>\n",
       "      <td>45,000.0</td>\n",
       "      <td>2,500.0</td>\n",
       "      <td>2,100.0</td>\n",
       "      <td>4,200.0</td>\n",
       "      <td>42,500.0</td>\n",
       "      <td>47,900.0</td>\n",
       "      <td>40,800.0</td>\n",
       "      <td>0.0</td>\n",
       "      <td>526,900,000.0</td>\n",
       "      <td>0.0</td>\n",
       "      <td>22,000.0</td>\n",
       "      <td>15,000.0</td>\n",
       "      <td>15,000.0</td>\n",
       "      <td>526,900,000.0</td>\n",
       "      <td>0</td>\n",
       "      <td>11,000.0</td>\n",
       "      <td>0.0</td>\n",
       "      <td>0.0</td>\n",
       "    </tr>\n",
       "    <tr>\n",
       "      <th>10</th>\n",
       "      <td>8,500.0</td>\n",
       "      <td>MALANG</td>\n",
       "      <td>BB</td>\n",
       "      <td>45,000.0</td>\n",
       "      <td>50,000.0</td>\n",
       "      <td>45,000.0</td>\n",
       "      <td>3,000.0</td>\n",
       "      <td>3,100.0</td>\n",
       "      <td>3,200.0</td>\n",
       "      <td>42,000.0</td>\n",
       "      <td>46,900.0</td>\n",
       "      <td>41,800.0</td>\n",
       "      <td>0.0</td>\n",
       "      <td>398,650,000.0</td>\n",
       "      <td>0.0</td>\n",
       "      <td>22,000.0</td>\n",
       "      <td>15,000.0</td>\n",
       "      <td>15,000.0</td>\n",
       "      <td>398,650,000.0</td>\n",
       "      <td>0</td>\n",
       "      <td>8,500.0</td>\n",
       "      <td>0.0</td>\n",
       "      <td>0.0</td>\n",
       "    </tr>\n",
       "    <tr>\n",
       "      <th>11</th>\n",
       "      <td>7,000.0</td>\n",
       "      <td>JAKARTA</td>\n",
       "      <td>BB</td>\n",
       "      <td>45,000.0</td>\n",
       "      <td>50,000.0</td>\n",
       "      <td>45,000.0</td>\n",
       "      <td>3,000.0</td>\n",
       "      <td>3,600.0</td>\n",
       "      <td>4,200.0</td>\n",
       "      <td>42,000.0</td>\n",
       "      <td>46,400.0</td>\n",
       "      <td>40,800.0</td>\n",
       "      <td>0.0</td>\n",
       "      <td>324,800,000.0</td>\n",
       "      <td>0.0</td>\n",
       "      <td>22,000.0</td>\n",
       "      <td>15,000.0</td>\n",
       "      <td>15,000.0</td>\n",
       "      <td>324,800,000.0</td>\n",
       "      <td>0</td>\n",
       "      <td>7,000.0</td>\n",
       "      <td>0.0</td>\n",
       "      <td>0.0</td>\n",
       "    </tr>\n",
       "    <tr>\n",
       "      <th>3</th>\n",
       "      <td>12,000.0</td>\n",
       "      <td>BANDUNG</td>\n",
       "      <td>CC</td>\n",
       "      <td>60,000.0</td>\n",
       "      <td>70,000.0</td>\n",
       "      <td>55,000.0</td>\n",
       "      <td>3,500.0</td>\n",
       "      <td>3,500.0</td>\n",
       "      <td>2,200.0</td>\n",
       "      <td>56,500.0</td>\n",
       "      <td>66,500.0</td>\n",
       "      <td>52,800.0</td>\n",
       "      <td>113,000,000.0</td>\n",
       "      <td>665,000,000.0</td>\n",
       "      <td>0.0</td>\n",
       "      <td>20,000.0</td>\n",
       "      <td>10,000.0</td>\n",
       "      <td>27,000.0</td>\n",
       "      <td>798,000,000.0</td>\n",
       "      <td>2,000.0</td>\n",
       "      <td>10,000.0</td>\n",
       "      <td>0.0</td>\n",
       "      <td>0.0</td>\n",
       "    </tr>\n",
       "    <tr>\n",
       "      <th>4</th>\n",
       "      <td>10,500.0</td>\n",
       "      <td>YOGYA</td>\n",
       "      <td>CC</td>\n",
       "      <td>60,000.0</td>\n",
       "      <td>70,000.0</td>\n",
       "      <td>55,000.0</td>\n",
       "      <td>2,500.0</td>\n",
       "      <td>2,100.0</td>\n",
       "      <td>4,200.0</td>\n",
       "      <td>57,500.0</td>\n",
       "      <td>67,900.0</td>\n",
       "      <td>50,800.0</td>\n",
       "      <td>28,750,000.0</td>\n",
       "      <td>679,000,000.0</td>\n",
       "      <td>0.0</td>\n",
       "      <td>20,000.0</td>\n",
       "      <td>10,000.0</td>\n",
       "      <td>27,000.0</td>\n",
       "      <td>712,950,000.0</td>\n",
       "      <td>500.0</td>\n",
       "      <td>10,000.0</td>\n",
       "      <td>0.0</td>\n",
       "      <td>0.0</td>\n",
       "    </tr>\n",
       "    <tr>\n",
       "      <th>6</th>\n",
       "      <td>10,000.0</td>\n",
       "      <td>JAKARTA</td>\n",
       "      <td>CC</td>\n",
       "      <td>60,000.0</td>\n",
       "      <td>70,000.0</td>\n",
       "      <td>55,000.0</td>\n",
       "      <td>3,000.0</td>\n",
       "      <td>3,600.0</td>\n",
       "      <td>4,200.0</td>\n",
       "      <td>57,000.0</td>\n",
       "      <td>66,400.0</td>\n",
       "      <td>50,800.0</td>\n",
       "      <td>0.0</td>\n",
       "      <td>664,000,000.0</td>\n",
       "      <td>0.0</td>\n",
       "      <td>20,000.0</td>\n",
       "      <td>10,000.0</td>\n",
       "      <td>27,000.0</td>\n",
       "      <td>664,000,000.0</td>\n",
       "      <td>0</td>\n",
       "      <td>10,000.0</td>\n",
       "      <td>0.0</td>\n",
       "      <td>0.0</td>\n",
       "    </tr>\n",
       "    <tr>\n",
       "      <th>7</th>\n",
       "      <td>9,000.0</td>\n",
       "      <td>MALANG</td>\n",
       "      <td>CC</td>\n",
       "      <td>60,000.0</td>\n",
       "      <td>70,000.0</td>\n",
       "      <td>55,000.0</td>\n",
       "      <td>3,000.0</td>\n",
       "      <td>3,100.0</td>\n",
       "      <td>3,200.0</td>\n",
       "      <td>57,000.0</td>\n",
       "      <td>66,900.0</td>\n",
       "      <td>51,800.0</td>\n",
       "      <td>0.0</td>\n",
       "      <td>602,100,000.0</td>\n",
       "      <td>0.0</td>\n",
       "      <td>20,000.0</td>\n",
       "      <td>10,000.0</td>\n",
       "      <td>27,000.0</td>\n",
       "      <td>602,100,000.0</td>\n",
       "      <td>0</td>\n",
       "      <td>9,000.0</td>\n",
       "      <td>0.0</td>\n",
       "      <td>0.0</td>\n",
       "    </tr>\n",
       "  </tbody>\n",
       "</table>\n",
       "</div>"
      ],
      "text/plain": [
       "     DEMAND     KOTA JENIS_ITEM  Index Margin Plant1  Index Margin Plant2  \\\n",
       "0  20,000.0  BANDUNG         AA             50,000.0             50,000.0   \n",
       "1  15,000.0   MALANG         AA             50,000.0             50,000.0   \n",
       "2  15,000.0    YOGYA         AA             50,000.0             50,000.0   \n",
       "5  12,000.0  JAKARTA         AA             50,000.0             50,000.0   \n",
       "8  12,000.0  BANDUNG         BB             45,000.0             50,000.0   \n",
       "9  11,000.0    YOGYA         BB             45,000.0             50,000.0   \n",
       "10  8,500.0   MALANG         BB             45,000.0             50,000.0   \n",
       "11  7,000.0  JAKARTA         BB             45,000.0             50,000.0   \n",
       "3  12,000.0  BANDUNG         CC             60,000.0             70,000.0   \n",
       "4  10,500.0    YOGYA         CC             60,000.0             70,000.0   \n",
       "6  10,000.0  JAKARTA         CC             60,000.0             70,000.0   \n",
       "7   9,000.0   MALANG         CC             60,000.0             70,000.0   \n",
       "\n",
       "    Index Margin Plant3  Cost Plant1  Cost Plant2  Cost Plant3  \\\n",
       "0              60,000.0      3,500.0      3,500.0      2,200.0   \n",
       "1              60,000.0      3,000.0      3,100.0      3,200.0   \n",
       "2              60,000.0      2,500.0      2,100.0      4,200.0   \n",
       "5              60,000.0      3,000.0      3,600.0      4,200.0   \n",
       "8              45,000.0      3,500.0      3,500.0      2,200.0   \n",
       "9              45,000.0      2,500.0      2,100.0      4,200.0   \n",
       "10             45,000.0      3,000.0      3,100.0      3,200.0   \n",
       "11             45,000.0      3,000.0      3,600.0      4,200.0   \n",
       "3              55,000.0      3,500.0      3,500.0      2,200.0   \n",
       "4              55,000.0      2,500.0      2,100.0      4,200.0   \n",
       "6              55,000.0      3,000.0      3,600.0      4,200.0   \n",
       "7              55,000.0      3,000.0      3,100.0      3,200.0   \n",
       "\n",
       "    Single Nett Margin Plant1  Single Nett Margin Plant2  \\\n",
       "0                    46,500.0                   46,500.0   \n",
       "1                    47,000.0                   46,900.0   \n",
       "2                    47,500.0                   47,900.0   \n",
       "5                    47,000.0                   46,400.0   \n",
       "8                    41,500.0                   46,500.0   \n",
       "9                    42,500.0                   47,900.0   \n",
       "10                   42,000.0                   46,900.0   \n",
       "11                   42,000.0                   46,400.0   \n",
       "3                    56,500.0                   66,500.0   \n",
       "4                    57,500.0                   67,900.0   \n",
       "6                    57,000.0                   66,400.0   \n",
       "7                    57,000.0                   66,900.0   \n",
       "\n",
       "    Single Nett Margin Plant3 Total Nett Margin Plant1  \\\n",
       "0                    57,800.0                      0.0   \n",
       "1                    56,800.0            141,000,000.0   \n",
       "2                    55,800.0                      0.0   \n",
       "5                    55,800.0                      0.0   \n",
       "8                    42,800.0                      0.0   \n",
       "9                    40,800.0                      0.0   \n",
       "10                   41,800.0                      0.0   \n",
       "11                   40,800.0                      0.0   \n",
       "3                    52,800.0            113,000,000.0   \n",
       "4                    50,800.0             28,750,000.0   \n",
       "6                    50,800.0                      0.0   \n",
       "7                    51,800.0                      0.0   \n",
       "\n",
       "    Total Nett Margin Plant2  Total Nett Margin Plant3  Capacity Plant1  \\\n",
       "0              372,000,000.0             693,600,000.0         15,000.0   \n",
       "1                        0.0             681,600,000.0         15,000.0   \n",
       "2              143,700,000.0             669,600,000.0         15,000.0   \n",
       "5                        0.0             669,600,000.0         15,000.0   \n",
       "8              558,000,000.0                       0.0         22,000.0   \n",
       "9              526,900,000.0                       0.0         22,000.0   \n",
       "10             398,650,000.0                       0.0         22,000.0   \n",
       "11             324,800,000.0                       0.0         22,000.0   \n",
       "3              665,000,000.0                       0.0         20,000.0   \n",
       "4              679,000,000.0                       0.0         20,000.0   \n",
       "6              664,000,000.0                       0.0         20,000.0   \n",
       "7              602,100,000.0                       0.0         20,000.0   \n",
       "\n",
       "    Capacity Plant2  Capacity Plant3  Max Total Nett Margin  \\\n",
       "0          20,000.0         12,000.0        1,156,000,000.0   \n",
       "1          20,000.0         12,000.0          852,000,000.0   \n",
       "2          20,000.0         12,000.0          837,000,000.0   \n",
       "5          20,000.0         12,000.0          669,600,000.0   \n",
       "8          15,000.0         15,000.0          558,000,000.0   \n",
       "9          15,000.0         15,000.0          526,900,000.0   \n",
       "10         15,000.0         15,000.0          398,650,000.0   \n",
       "11         15,000.0         15,000.0          324,800,000.0   \n",
       "3          10,000.0         27,000.0          798,000,000.0   \n",
       "4          10,000.0         27,000.0          712,950,000.0   \n",
       "6          10,000.0         27,000.0          664,000,000.0   \n",
       "7          10,000.0         27,000.0          602,100,000.0   \n",
       "\n",
       "   Distribution Plant1  Distribution Plant2  Distribution Plant3  Balance  \n",
       "0                    0              8,000.0             12,000.0      0.0  \n",
       "1              3,000.0                  0.0             12,000.0      0.0  \n",
       "2                    0              3,000.0             12,000.0      0.0  \n",
       "5                    0                  0.0             12,000.0      0.0  \n",
       "8                    0             12,000.0                  0.0      0.0  \n",
       "9                    0             11,000.0                  0.0      0.0  \n",
       "10                   0              8,500.0                  0.0      0.0  \n",
       "11                   0              7,000.0                  0.0      0.0  \n",
       "3              2,000.0             10,000.0                  0.0      0.0  \n",
       "4                500.0             10,000.0                  0.0      0.0  \n",
       "6                    0             10,000.0                  0.0      0.0  \n",
       "7                    0              9,000.0                  0.0      0.0  "
      ]
     },
     "execution_count": 137,
     "metadata": {},
     "output_type": "execute_result"
    }
   ],
   "source": [
    "#sorted by JENIS_ITEM\n",
    "result_df_prod = result_df.sort_values(by='JENIS_ITEM')\n",
    "result_df_prod"
   ]
  },
  {
   "cell_type": "markdown",
   "id": "fb26b993-04da-49ca-8fe8-2c3527f035ab",
   "metadata": {
    "tags": []
   },
   "source": [
    "<h2>Aggregating The Total NETT Margins by Branch, Plant, and Product</h2>"
   ]
  },
  {
   "cell_type": "markdown",
   "id": "9d66dd21-4d6f-44bd-821f-8b5c388f24e8",
   "metadata": {},
   "source": [
    "<p>Calculating the Total NETT Margin grouped by:</p>\n",
    "\n",
    "<ul>\n",
    "    <li>Branch</li>\n",
    "    <li>Plant</li>\n",
    "    <li>Product</li>\n",
    "</ul>\n",
    "\n",
    "<p>To do that, we need create a function to aggregate Total NETT Margin to those categories:</p>"
   ]
  },
  {
   "cell_type": "code",
   "execution_count": 138,
   "id": "e11482a6-cf61-4e84-9982-c60f882ed54e",
   "metadata": {
    "tags": []
   },
   "outputs": [],
   "source": [
    "#aggregate the total nett margins for each plant by branch, plant, and product\n",
    "aggregated_data = {\n",
    "    'Branch': [],\n",
    "    'Product': [],\n",
    "    'Plant': [],\n",
    "    'Total Nett Margin': []\n",
    "}\n",
    "\n",
    "for branch in result_df['KOTA'].unique():\n",
    "    for product in result_df['JENIS_ITEM'].unique():\n",
    "        for plant in range(1, 4):\n",
    "            mask = (result_df['KOTA'] == branch) & (result_df['JENIS_ITEM'] == product)\n",
    "            total_margin = result_df.loc[mask, f'Total Nett Margin Plant{plant}'].sum()\n",
    "            aggregated_data['Branch'].append(branch)\n",
    "            aggregated_data['Product'].append(product)\n",
    "            aggregated_data['Plant'].append(f'Plant{plant}')\n",
    "            aggregated_data['Total Nett Margin'].append(total_margin)\n",
    "\n",
    "aggregated_df = pd.DataFrame(aggregated_data)"
   ]
  },
  {
   "cell_type": "code",
   "execution_count": 139,
   "id": "2a567af1-592e-4a70-834f-40b2bb5e4bb1",
   "metadata": {
    "tags": []
   },
   "outputs": [
    {
     "data": {
      "text/html": [
       "<div>\n",
       "<style scoped>\n",
       "    .dataframe tbody tr th:only-of-type {\n",
       "        vertical-align: middle;\n",
       "    }\n",
       "\n",
       "    .dataframe tbody tr th {\n",
       "        vertical-align: top;\n",
       "    }\n",
       "\n",
       "    .dataframe thead th {\n",
       "        text-align: right;\n",
       "    }\n",
       "</style>\n",
       "<table border=\"1\" class=\"dataframe\">\n",
       "  <thead>\n",
       "    <tr style=\"text-align: right;\">\n",
       "      <th></th>\n",
       "      <th>Branch</th>\n",
       "      <th>Product</th>\n",
       "      <th>Plant</th>\n",
       "      <th>Total Nett Margin</th>\n",
       "    </tr>\n",
       "  </thead>\n",
       "  <tbody>\n",
       "    <tr>\n",
       "      <th>0</th>\n",
       "      <td>BANDUNG</td>\n",
       "      <td>AA</td>\n",
       "      <td>Plant1</td>\n",
       "      <td>0.0</td>\n",
       "    </tr>\n",
       "    <tr>\n",
       "      <th>1</th>\n",
       "      <td>BANDUNG</td>\n",
       "      <td>AA</td>\n",
       "      <td>Plant2</td>\n",
       "      <td>372,000,000.0</td>\n",
       "    </tr>\n",
       "    <tr>\n",
       "      <th>2</th>\n",
       "      <td>BANDUNG</td>\n",
       "      <td>AA</td>\n",
       "      <td>Plant3</td>\n",
       "      <td>693,600,000.0</td>\n",
       "    </tr>\n",
       "    <tr>\n",
       "      <th>3</th>\n",
       "      <td>BANDUNG</td>\n",
       "      <td>CC</td>\n",
       "      <td>Plant1</td>\n",
       "      <td>113,000,000.0</td>\n",
       "    </tr>\n",
       "    <tr>\n",
       "      <th>4</th>\n",
       "      <td>BANDUNG</td>\n",
       "      <td>CC</td>\n",
       "      <td>Plant2</td>\n",
       "      <td>665,000,000.0</td>\n",
       "    </tr>\n",
       "  </tbody>\n",
       "</table>\n",
       "</div>"
      ],
      "text/plain": [
       "    Branch Product   Plant  Total Nett Margin\n",
       "0  BANDUNG      AA  Plant1                0.0\n",
       "1  BANDUNG      AA  Plant2      372,000,000.0\n",
       "2  BANDUNG      AA  Plant3      693,600,000.0\n",
       "3  BANDUNG      CC  Plant1      113,000,000.0\n",
       "4  BANDUNG      CC  Plant2      665,000,000.0"
      ]
     },
     "execution_count": 139,
     "metadata": {},
     "output_type": "execute_result"
    }
   ],
   "source": [
    "aggregated_df.head()"
   ]
  },
  {
   "cell_type": "code",
   "execution_count": 140,
   "id": "e4dfdb40-5d17-4374-b437-e6edaa8db178",
   "metadata": {
    "tags": []
   },
   "outputs": [],
   "source": [
    "#calculate combined totals for branches, plants, and products\n",
    "branch_totals = aggregated_df.groupby('Branch')['Total Nett Margin'].sum().reset_index()\n",
    "product_totals = aggregated_df.groupby('Product')['Total Nett Margin'].sum().reset_index()\n",
    "plant_totals = aggregated_df.groupby('Plant')['Total Nett Margin'].sum().reset_index()"
   ]
  },
  {
   "cell_type": "code",
   "execution_count": 141,
   "id": "64bb890d-b140-4feb-b6f0-cb484278e9c9",
   "metadata": {
    "tags": []
   },
   "outputs": [],
   "source": [
    "#add a 'Combined' category to summarize total NETT margins across all branches, plants, and products\n",
    "combined_totals = pd.DataFrame({\n",
    "    'Branch': ['Combined'],\n",
    "    'Total Nett Margin': [branch_totals['Total Nett Margin'].sum()]\n",
    "})\n",
    "\n",
    "combined_product_totals = pd.DataFrame({\n",
    "    'Product': ['Combined'],\n",
    "    'Total Nett Margin': [product_totals['Total Nett Margin'].sum()]\n",
    "})\n",
    "\n",
    "combined_plant_totals = pd.DataFrame({\n",
    "    'Plant': ['Combined'],\n",
    "    'Total Nett Margin': [plant_totals['Total Nett Margin'].sum()]\n",
    "})"
   ]
  },
  {
   "cell_type": "code",
   "execution_count": 146,
   "id": "5f2ccba8-29f5-489c-ad37-4faa6285e657",
   "metadata": {
    "tags": []
   },
   "outputs": [
    {
     "name": "stdout",
     "output_type": "stream",
     "text": [
      "Branch Totals:\n",
      "    Branch  Total Nett Margin\n",
      "0  BANDUNG    2,401,600,000.0\n",
      "1  JAKARTA    1,658,400,000.0\n",
      "2   MALANG    1,823,350,000.0\n",
      "3    YOGYA    2,047,950,000.0\n",
      "\n",
      "Product Totals:\n",
      "  Product  Total Nett Margin\n",
      "0      AA    3,371,100,000.0\n",
      "1      BB    1,808,350,000.0\n",
      "2      CC    2,751,850,000.0\n",
      "\n",
      "Plant Totals:\n",
      "    Plant  Total Nett Margin\n",
      "0  Plant1      282,750,000.0\n",
      "1  Plant2    4,934,150,000.0\n",
      "2  Plant3    2,714,400,000.0\n",
      "\n",
      "Combined Branch Total:\n",
      "   Category  Total Nett Margin\n",
      "0  Branches    7,931,300,000.0\n",
      "1  Products    7,931,300,000.0\n",
      "2    Plants    7,931,300,000.0\n",
      "\n",
      "Combined Product Total:\n",
      "    Product  Total Nett Margin\n",
      "0  Combined    7,931,300,000.0\n",
      "\n",
      "Combined Plant Total:\n",
      "      Plant  Total Nett Margin\n",
      "0  Combined    7,931,300,000.0\n"
     ]
    }
   ],
   "source": [
    "#print the Total NETT Margins\n",
    "print(\"Branch Totals:\")\n",
    "print(branch_totals)\n",
    "\n",
    "print(\"\\nProduct Totals:\")\n",
    "print(product_totals)\n",
    "\n",
    "print(\"\\nPlant Totals:\")\n",
    "print(plant_totals)\n",
    "\n",
    "print(\"\\nCombined Branch Total:\")\n",
    "print(combined_totals)\n",
    "\n",
    "print(\"\\nCombined Product Total:\")\n",
    "print(combined_product_totals)\n",
    "\n",
    "print(\"\\nCombined Plant Total:\")\n",
    "print(combined_plant_totals)"
   ]
  },
  {
   "cell_type": "markdown",
   "id": "5f82f695-9a9f-4f22-b394-4772ec7503f1",
   "metadata": {
    "tags": []
   },
   "source": [
    "<h2>Creating Visualization for Total NETT Margin Aggregation using plotly.express</h2>"
   ]
  },
  {
   "cell_type": "markdown",
   "id": "de560d76-c227-4e9f-9215-bba37d7f4aaa",
   "metadata": {},
   "source": [
    "<p>Bonus part on my end, I just want to make an easier data readability method of Total NETT Margin aggregation</p>"
   ]
  },
  {
   "cell_type": "code",
   "execution_count": 164,
   "id": "4c8d0452-3da6-4181-a6ea-1b852d6159ab",
   "metadata": {
    "tags": []
   },
   "outputs": [],
   "source": [
    "import plotly.express as px\n",
    "import plotly.graph_objects as go\n",
    "from plotly.subplots import make_subplots"
   ]
  },
  {
   "cell_type": "code",
   "execution_count": 165,
   "id": "810bb23f-1d3b-4fc0-a38f-27d078587082",
   "metadata": {
    "tags": []
   },
   "outputs": [
    {
     "data": {
      "application/vnd.plotly.v1+json": {
       "config": {
        "plotlyServerURL": "https://plot.ly"
       },
       "data": [
        {
         "name": "Branch",
         "type": "bar",
         "x": [
          "BANDUNG",
          "JAKARTA",
          "MALANG",
          "YOGYA"
         ],
         "xaxis": "x",
         "y": [
          2401600000,
          1658400000,
          1823350000,
          2047950000
         ],
         "yaxis": "y"
        },
        {
         "name": "Product",
         "type": "bar",
         "x": [
          "AA",
          "BB",
          "CC"
         ],
         "xaxis": "x2",
         "y": [
          3371100000,
          1808350000,
          2751850000
         ],
         "yaxis": "y2"
        },
        {
         "name": "Plant",
         "type": "bar",
         "x": [
          "Plant1",
          "Plant2",
          "Plant3"
         ],
         "xaxis": "x3",
         "y": [
          282750000,
          4934150000,
          2714400000
         ],
         "yaxis": "y3"
        },
        {
         "name": "Combined",
         "type": "bar",
         "x": [
          "Branches",
          "Products",
          "Plants"
         ],
         "xaxis": "x4",
         "y": [
          7931300000,
          7931300000,
          7931300000
         ],
         "yaxis": "y4"
        }
       ],
       "layout": {
        "annotations": [
         {
          "font": {
           "size": 16
          },
          "showarrow": false,
          "text": "Total Nett Margin by Branch",
          "x": 0.225,
          "xanchor": "center",
          "xref": "paper",
          "y": 1,
          "yanchor": "bottom",
          "yref": "paper"
         },
         {
          "font": {
           "size": 16
          },
          "showarrow": false,
          "text": "Total Nett Margin by Product",
          "x": 0.775,
          "xanchor": "center",
          "xref": "paper",
          "y": 1,
          "yanchor": "bottom",
          "yref": "paper"
         },
         {
          "font": {
           "size": 16
          },
          "showarrow": false,
          "text": "Total Nett Margin by Plant",
          "x": 0.225,
          "xanchor": "center",
          "xref": "paper",
          "y": 0.375,
          "yanchor": "bottom",
          "yref": "paper"
         },
         {
          "font": {
           "size": 16
          },
          "showarrow": false,
          "text": "Total Nett Margin Combined",
          "x": 0.775,
          "xanchor": "center",
          "xref": "paper",
          "y": 0.375,
          "yanchor": "bottom",
          "yref": "paper"
         }
        ],
        "height": 1000,
        "showlegend": false,
        "template": {
         "data": {
          "bar": [
           {
            "error_x": {
             "color": "#2a3f5f"
            },
            "error_y": {
             "color": "#2a3f5f"
            },
            "marker": {
             "line": {
              "color": "#E5ECF6",
              "width": 0.5
             },
             "pattern": {
              "fillmode": "overlay",
              "size": 10,
              "solidity": 0.2
             }
            },
            "type": "bar"
           }
          ],
          "barpolar": [
           {
            "marker": {
             "line": {
              "color": "#E5ECF6",
              "width": 0.5
             },
             "pattern": {
              "fillmode": "overlay",
              "size": 10,
              "solidity": 0.2
             }
            },
            "type": "barpolar"
           }
          ],
          "carpet": [
           {
            "aaxis": {
             "endlinecolor": "#2a3f5f",
             "gridcolor": "white",
             "linecolor": "white",
             "minorgridcolor": "white",
             "startlinecolor": "#2a3f5f"
            },
            "baxis": {
             "endlinecolor": "#2a3f5f",
             "gridcolor": "white",
             "linecolor": "white",
             "minorgridcolor": "white",
             "startlinecolor": "#2a3f5f"
            },
            "type": "carpet"
           }
          ],
          "choropleth": [
           {
            "colorbar": {
             "outlinewidth": 0,
             "ticks": ""
            },
            "type": "choropleth"
           }
          ],
          "contour": [
           {
            "colorbar": {
             "outlinewidth": 0,
             "ticks": ""
            },
            "colorscale": [
             [
              0,
              "#0d0887"
             ],
             [
              0.1111111111111111,
              "#46039f"
             ],
             [
              0.2222222222222222,
              "#7201a8"
             ],
             [
              0.3333333333333333,
              "#9c179e"
             ],
             [
              0.4444444444444444,
              "#bd3786"
             ],
             [
              0.5555555555555556,
              "#d8576b"
             ],
             [
              0.6666666666666666,
              "#ed7953"
             ],
             [
              0.7777777777777778,
              "#fb9f3a"
             ],
             [
              0.8888888888888888,
              "#fdca26"
             ],
             [
              1,
              "#f0f921"
             ]
            ],
            "type": "contour"
           }
          ],
          "contourcarpet": [
           {
            "colorbar": {
             "outlinewidth": 0,
             "ticks": ""
            },
            "type": "contourcarpet"
           }
          ],
          "heatmap": [
           {
            "colorbar": {
             "outlinewidth": 0,
             "ticks": ""
            },
            "colorscale": [
             [
              0,
              "#0d0887"
             ],
             [
              0.1111111111111111,
              "#46039f"
             ],
             [
              0.2222222222222222,
              "#7201a8"
             ],
             [
              0.3333333333333333,
              "#9c179e"
             ],
             [
              0.4444444444444444,
              "#bd3786"
             ],
             [
              0.5555555555555556,
              "#d8576b"
             ],
             [
              0.6666666666666666,
              "#ed7953"
             ],
             [
              0.7777777777777778,
              "#fb9f3a"
             ],
             [
              0.8888888888888888,
              "#fdca26"
             ],
             [
              1,
              "#f0f921"
             ]
            ],
            "type": "heatmap"
           }
          ],
          "heatmapgl": [
           {
            "colorbar": {
             "outlinewidth": 0,
             "ticks": ""
            },
            "colorscale": [
             [
              0,
              "#0d0887"
             ],
             [
              0.1111111111111111,
              "#46039f"
             ],
             [
              0.2222222222222222,
              "#7201a8"
             ],
             [
              0.3333333333333333,
              "#9c179e"
             ],
             [
              0.4444444444444444,
              "#bd3786"
             ],
             [
              0.5555555555555556,
              "#d8576b"
             ],
             [
              0.6666666666666666,
              "#ed7953"
             ],
             [
              0.7777777777777778,
              "#fb9f3a"
             ],
             [
              0.8888888888888888,
              "#fdca26"
             ],
             [
              1,
              "#f0f921"
             ]
            ],
            "type": "heatmapgl"
           }
          ],
          "histogram": [
           {
            "marker": {
             "pattern": {
              "fillmode": "overlay",
              "size": 10,
              "solidity": 0.2
             }
            },
            "type": "histogram"
           }
          ],
          "histogram2d": [
           {
            "colorbar": {
             "outlinewidth": 0,
             "ticks": ""
            },
            "colorscale": [
             [
              0,
              "#0d0887"
             ],
             [
              0.1111111111111111,
              "#46039f"
             ],
             [
              0.2222222222222222,
              "#7201a8"
             ],
             [
              0.3333333333333333,
              "#9c179e"
             ],
             [
              0.4444444444444444,
              "#bd3786"
             ],
             [
              0.5555555555555556,
              "#d8576b"
             ],
             [
              0.6666666666666666,
              "#ed7953"
             ],
             [
              0.7777777777777778,
              "#fb9f3a"
             ],
             [
              0.8888888888888888,
              "#fdca26"
             ],
             [
              1,
              "#f0f921"
             ]
            ],
            "type": "histogram2d"
           }
          ],
          "histogram2dcontour": [
           {
            "colorbar": {
             "outlinewidth": 0,
             "ticks": ""
            },
            "colorscale": [
             [
              0,
              "#0d0887"
             ],
             [
              0.1111111111111111,
              "#46039f"
             ],
             [
              0.2222222222222222,
              "#7201a8"
             ],
             [
              0.3333333333333333,
              "#9c179e"
             ],
             [
              0.4444444444444444,
              "#bd3786"
             ],
             [
              0.5555555555555556,
              "#d8576b"
             ],
             [
              0.6666666666666666,
              "#ed7953"
             ],
             [
              0.7777777777777778,
              "#fb9f3a"
             ],
             [
              0.8888888888888888,
              "#fdca26"
             ],
             [
              1,
              "#f0f921"
             ]
            ],
            "type": "histogram2dcontour"
           }
          ],
          "mesh3d": [
           {
            "colorbar": {
             "outlinewidth": 0,
             "ticks": ""
            },
            "type": "mesh3d"
           }
          ],
          "parcoords": [
           {
            "line": {
             "colorbar": {
              "outlinewidth": 0,
              "ticks": ""
             }
            },
            "type": "parcoords"
           }
          ],
          "pie": [
           {
            "automargin": true,
            "type": "pie"
           }
          ],
          "scatter": [
           {
            "fillpattern": {
             "fillmode": "overlay",
             "size": 10,
             "solidity": 0.2
            },
            "type": "scatter"
           }
          ],
          "scatter3d": [
           {
            "line": {
             "colorbar": {
              "outlinewidth": 0,
              "ticks": ""
             }
            },
            "marker": {
             "colorbar": {
              "outlinewidth": 0,
              "ticks": ""
             }
            },
            "type": "scatter3d"
           }
          ],
          "scattercarpet": [
           {
            "marker": {
             "colorbar": {
              "outlinewidth": 0,
              "ticks": ""
             }
            },
            "type": "scattercarpet"
           }
          ],
          "scattergeo": [
           {
            "marker": {
             "colorbar": {
              "outlinewidth": 0,
              "ticks": ""
             }
            },
            "type": "scattergeo"
           }
          ],
          "scattergl": [
           {
            "marker": {
             "colorbar": {
              "outlinewidth": 0,
              "ticks": ""
             }
            },
            "type": "scattergl"
           }
          ],
          "scattermapbox": [
           {
            "marker": {
             "colorbar": {
              "outlinewidth": 0,
              "ticks": ""
             }
            },
            "type": "scattermapbox"
           }
          ],
          "scatterpolar": [
           {
            "marker": {
             "colorbar": {
              "outlinewidth": 0,
              "ticks": ""
             }
            },
            "type": "scatterpolar"
           }
          ],
          "scatterpolargl": [
           {
            "marker": {
             "colorbar": {
              "outlinewidth": 0,
              "ticks": ""
             }
            },
            "type": "scatterpolargl"
           }
          ],
          "scatterternary": [
           {
            "marker": {
             "colorbar": {
              "outlinewidth": 0,
              "ticks": ""
             }
            },
            "type": "scatterternary"
           }
          ],
          "surface": [
           {
            "colorbar": {
             "outlinewidth": 0,
             "ticks": ""
            },
            "colorscale": [
             [
              0,
              "#0d0887"
             ],
             [
              0.1111111111111111,
              "#46039f"
             ],
             [
              0.2222222222222222,
              "#7201a8"
             ],
             [
              0.3333333333333333,
              "#9c179e"
             ],
             [
              0.4444444444444444,
              "#bd3786"
             ],
             [
              0.5555555555555556,
              "#d8576b"
             ],
             [
              0.6666666666666666,
              "#ed7953"
             ],
             [
              0.7777777777777778,
              "#fb9f3a"
             ],
             [
              0.8888888888888888,
              "#fdca26"
             ],
             [
              1,
              "#f0f921"
             ]
            ],
            "type": "surface"
           }
          ],
          "table": [
           {
            "cells": {
             "fill": {
              "color": "#EBF0F8"
             },
             "line": {
              "color": "white"
             }
            },
            "header": {
             "fill": {
              "color": "#C8D4E3"
             },
             "line": {
              "color": "white"
             }
            },
            "type": "table"
           }
          ]
         },
         "layout": {
          "annotationdefaults": {
           "arrowcolor": "#2a3f5f",
           "arrowhead": 0,
           "arrowwidth": 1
          },
          "autotypenumbers": "strict",
          "coloraxis": {
           "colorbar": {
            "outlinewidth": 0,
            "ticks": ""
           }
          },
          "colorscale": {
           "diverging": [
            [
             0,
             "#8e0152"
            ],
            [
             0.1,
             "#c51b7d"
            ],
            [
             0.2,
             "#de77ae"
            ],
            [
             0.3,
             "#f1b6da"
            ],
            [
             0.4,
             "#fde0ef"
            ],
            [
             0.5,
             "#f7f7f7"
            ],
            [
             0.6,
             "#e6f5d0"
            ],
            [
             0.7,
             "#b8e186"
            ],
            [
             0.8,
             "#7fbc41"
            ],
            [
             0.9,
             "#4d9221"
            ],
            [
             1,
             "#276419"
            ]
           ],
           "sequential": [
            [
             0,
             "#0d0887"
            ],
            [
             0.1111111111111111,
             "#46039f"
            ],
            [
             0.2222222222222222,
             "#7201a8"
            ],
            [
             0.3333333333333333,
             "#9c179e"
            ],
            [
             0.4444444444444444,
             "#bd3786"
            ],
            [
             0.5555555555555556,
             "#d8576b"
            ],
            [
             0.6666666666666666,
             "#ed7953"
            ],
            [
             0.7777777777777778,
             "#fb9f3a"
            ],
            [
             0.8888888888888888,
             "#fdca26"
            ],
            [
             1,
             "#f0f921"
            ]
           ],
           "sequentialminus": [
            [
             0,
             "#0d0887"
            ],
            [
             0.1111111111111111,
             "#46039f"
            ],
            [
             0.2222222222222222,
             "#7201a8"
            ],
            [
             0.3333333333333333,
             "#9c179e"
            ],
            [
             0.4444444444444444,
             "#bd3786"
            ],
            [
             0.5555555555555556,
             "#d8576b"
            ],
            [
             0.6666666666666666,
             "#ed7953"
            ],
            [
             0.7777777777777778,
             "#fb9f3a"
            ],
            [
             0.8888888888888888,
             "#fdca26"
            ],
            [
             1,
             "#f0f921"
            ]
           ]
          },
          "colorway": [
           "#636efa",
           "#EF553B",
           "#00cc96",
           "#ab63fa",
           "#FFA15A",
           "#19d3f3",
           "#FF6692",
           "#B6E880",
           "#FF97FF",
           "#FECB52"
          ],
          "font": {
           "color": "#2a3f5f"
          },
          "geo": {
           "bgcolor": "white",
           "lakecolor": "white",
           "landcolor": "#E5ECF6",
           "showlakes": true,
           "showland": true,
           "subunitcolor": "white"
          },
          "hoverlabel": {
           "align": "left"
          },
          "hovermode": "closest",
          "mapbox": {
           "style": "light"
          },
          "paper_bgcolor": "white",
          "plot_bgcolor": "#E5ECF6",
          "polar": {
           "angularaxis": {
            "gridcolor": "white",
            "linecolor": "white",
            "ticks": ""
           },
           "bgcolor": "#E5ECF6",
           "radialaxis": {
            "gridcolor": "white",
            "linecolor": "white",
            "ticks": ""
           }
          },
          "scene": {
           "xaxis": {
            "backgroundcolor": "#E5ECF6",
            "gridcolor": "white",
            "gridwidth": 2,
            "linecolor": "white",
            "showbackground": true,
            "ticks": "",
            "zerolinecolor": "white"
           },
           "yaxis": {
            "backgroundcolor": "#E5ECF6",
            "gridcolor": "white",
            "gridwidth": 2,
            "linecolor": "white",
            "showbackground": true,
            "ticks": "",
            "zerolinecolor": "white"
           },
           "zaxis": {
            "backgroundcolor": "#E5ECF6",
            "gridcolor": "white",
            "gridwidth": 2,
            "linecolor": "white",
            "showbackground": true,
            "ticks": "",
            "zerolinecolor": "white"
           }
          },
          "shapedefaults": {
           "line": {
            "color": "#2a3f5f"
           }
          },
          "ternary": {
           "aaxis": {
            "gridcolor": "white",
            "linecolor": "white",
            "ticks": ""
           },
           "baxis": {
            "gridcolor": "white",
            "linecolor": "white",
            "ticks": ""
           },
           "bgcolor": "#E5ECF6",
           "caxis": {
            "gridcolor": "white",
            "linecolor": "white",
            "ticks": ""
           }
          },
          "title": {
           "x": 0.05
          },
          "xaxis": {
           "automargin": true,
           "gridcolor": "white",
           "linecolor": "white",
           "ticks": "",
           "title": {
            "standoff": 15
           },
           "zerolinecolor": "white",
           "zerolinewidth": 2
          },
          "yaxis": {
           "automargin": true,
           "gridcolor": "white",
           "linecolor": "white",
           "ticks": "",
           "title": {
            "standoff": 15
           },
           "zerolinecolor": "white",
           "zerolinewidth": 2
          }
         }
        },
        "title": {
         "text": "Total Nett Margin Analysis"
        },
        "width": 1000,
        "xaxis": {
         "anchor": "y",
         "autorange": true,
         "domain": [
          0,
          0.45
         ],
         "range": [
          -0.5,
          3.5
         ],
         "type": "category"
        },
        "xaxis2": {
         "anchor": "y2",
         "autorange": true,
         "domain": [
          0.55,
          1
         ],
         "range": [
          -0.5,
          2.5
         ],
         "type": "category"
        },
        "xaxis3": {
         "anchor": "y3",
         "autorange": true,
         "domain": [
          0,
          0.45
         ],
         "range": [
          -0.5,
          2.5
         ],
         "type": "category"
        },
        "xaxis4": {
         "anchor": "y4",
         "autorange": true,
         "domain": [
          0.55,
          1
         ],
         "range": [
          -0.5,
          2.5
         ],
         "type": "category"
        },
        "yaxis": {
         "anchor": "x",
         "autorange": true,
         "domain": [
          0.625,
          1
         ],
         "range": [
          0,
          2528000000
         ],
         "type": "linear"
        },
        "yaxis2": {
         "anchor": "x2",
         "autorange": true,
         "domain": [
          0.625,
          1
         ],
         "range": [
          0,
          3548526315.7894735
         ],
         "type": "linear"
        },
        "yaxis3": {
         "anchor": "x3",
         "autorange": true,
         "domain": [
          0,
          0.375
         ],
         "range": [
          0,
          5193842105.263158
         ],
         "type": "linear"
        },
        "yaxis4": {
         "anchor": "x4",
         "autorange": true,
         "domain": [
          0,
          0.375
         ],
         "range": [
          0,
          8348736842.105263
         ],
         "type": "linear"
        }
       }
      },
      "image/png": "[encoded data removed]",
      "text/html": [
       "<div>                            <div id=\"769ae0c1-426d-48fe-892d-9ac24f5e2e63\" class=\"plotly-graph-div\" style=\"height:1000px; width:1000px;\"></div>            <script type=\"text/javascript\">                require([\"plotly\"], function(Plotly) {                    window.PLOTLYENV=window.PLOTLYENV || {};                                    if (document.getElementById(\"769ae0c1-426d-48fe-892d-9ac24f5e2e63\")) {                    Plotly.newPlot(                        \"769ae0c1-426d-48fe-892d-9ac24f5e2e63\",                        [{\"name\":\"Branch\",\"x\":[\"BANDUNG\",\"JAKARTA\",\"MALANG\",\"YOGYA\"],\"y\":[2401600000.0,1658400000.0,1823350000.0,2047950000.0],\"type\":\"bar\",\"xaxis\":\"x\",\"yaxis\":\"y\"},{\"name\":\"Product\",\"x\":[\"AA\",\"BB\",\"CC\"],\"y\":[3371100000.0,1808350000.0,2751850000.0],\"type\":\"bar\",\"xaxis\":\"x2\",\"yaxis\":\"y2\"},{\"name\":\"Plant\",\"x\":[\"Plant1\",\"Plant2\",\"Plant3\"],\"y\":[282750000.0,4934150000.0,2714400000.0],\"type\":\"bar\",\"xaxis\":\"x3\",\"yaxis\":\"y3\"},{\"name\":\"Combined\",\"x\":[\"Branches\",\"Products\",\"Plants\"],\"y\":[7931300000.0,7931300000.0,7931300000.0],\"type\":\"bar\",\"xaxis\":\"x4\",\"yaxis\":\"y4\"}],                        {\"template\":{\"data\":{\"histogram2dcontour\":[{\"type\":\"histogram2dcontour\",\"colorbar\":{\"outlinewidth\":0,\"ticks\":\"\"},\"colorscale\":[[0.0,\"#0d0887\"],[0.1111111111111111,\"#46039f\"],[0.2222222222222222,\"#7201a8\"],[0.3333333333333333,\"#9c179e\"],[0.4444444444444444,\"#bd3786\"],[0.5555555555555556,\"#d8576b\"],[0.6666666666666666,\"#ed7953\"],[0.7777777777777778,\"#fb9f3a\"],[0.8888888888888888,\"#fdca26\"],[1.0,\"#f0f921\"]]}],\"choropleth\":[{\"type\":\"choropleth\",\"colorbar\":{\"outlinewidth\":0,\"ticks\":\"\"}}],\"histogram2d\":[{\"type\":\"histogram2d\",\"colorbar\":{\"outlinewidth\":0,\"ticks\":\"\"},\"colorscale\":[[0.0,\"#0d0887\"],[0.1111111111111111,\"#46039f\"],[0.2222222222222222,\"#7201a8\"],[0.3333333333333333,\"#9c179e\"],[0.4444444444444444,\"#bd3786\"],[0.5555555555555556,\"#d8576b\"],[0.6666666666666666,\"#ed7953\"],[0.7777777777777778,\"#fb9f3a\"],[0.8888888888888888,\"#fdca26\"],[1.0,\"#f0f921\"]]}],\"heatmap\":[{\"type\":\"heatmap\",\"colorbar\":{\"outlinewidth\":0,\"ticks\":\"\"},\"colorscale\":[[0.0,\"#0d0887\"],[0.1111111111111111,\"#46039f\"],[0.2222222222222222,\"#7201a8\"],[0.3333333333333333,\"#9c179e\"],[0.4444444444444444,\"#bd3786\"],[0.5555555555555556,\"#d8576b\"],[0.6666666666666666,\"#ed7953\"],[0.7777777777777778,\"#fb9f3a\"],[0.8888888888888888,\"#fdca26\"],[1.0,\"#f0f921\"]]}],\"heatmapgl\":[{\"type\":\"heatmapgl\",\"colorbar\":{\"outlinewidth\":0,\"ticks\":\"\"},\"colorscale\":[[0.0,\"#0d0887\"],[0.1111111111111111,\"#46039f\"],[0.2222222222222222,\"#7201a8\"],[0.3333333333333333,\"#9c179e\"],[0.4444444444444444,\"#bd3786\"],[0.5555555555555556,\"#d8576b\"],[0.6666666666666666,\"#ed7953\"],[0.7777777777777778,\"#fb9f3a\"],[0.8888888888888888,\"#fdca26\"],[1.0,\"#f0f921\"]]}],\"contourcarpet\":[{\"type\":\"contourcarpet\",\"colorbar\":{\"outlinewidth\":0,\"ticks\":\"\"}}],\"contour\":[{\"type\":\"contour\",\"colorbar\":{\"outlinewidth\":0,\"ticks\":\"\"},\"colorscale\":[[0.0,\"#0d0887\"],[0.1111111111111111,\"#46039f\"],[0.2222222222222222,\"#7201a8\"],[0.3333333333333333,\"#9c179e\"],[0.4444444444444444,\"#bd3786\"],[0.5555555555555556,\"#d8576b\"],[0.6666666666666666,\"#ed7953\"],[0.7777777777777778,\"#fb9f3a\"],[0.8888888888888888,\"#fdca26\"],[1.0,\"#f0f921\"]]}],\"surface\":[{\"type\":\"surface\",\"colorbar\":{\"outlinewidth\":0,\"ticks\":\"\"},\"colorscale\":[[0.0,\"#0d0887\"],[0.1111111111111111,\"#46039f\"],[0.2222222222222222,\"#7201a8\"],[0.3333333333333333,\"#9c179e\"],[0.4444444444444444,\"#bd3786\"],[0.5555555555555556,\"#d8576b\"],[0.6666666666666666,\"#ed7953\"],[0.7777777777777778,\"#fb9f3a\"],[0.8888888888888888,\"#fdca26\"],[1.0,\"#f0f921\"]]}],\"mesh3d\":[{\"type\":\"mesh3d\",\"colorbar\":{\"outlinewidth\":0,\"ticks\":\"\"}}],\"scatter\":[{\"fillpattern\":{\"fillmode\":\"overlay\",\"size\":10,\"solidity\":0.2},\"type\":\"scatter\"}],\"parcoords\":[{\"type\":\"parcoords\",\"line\":{\"colorbar\":{\"outlinewidth\":0,\"ticks\":\"\"}}}],\"scatterpolargl\":[{\"type\":\"scatterpolargl\",\"marker\":{\"colorbar\":{\"outlinewidth\":0,\"ticks\":\"\"}}}],\"bar\":[{\"error_x\":{\"color\":\"#2a3f5f\"},\"error_y\":{\"color\":\"#2a3f5f\"},\"marker\":{\"line\":{\"color\":\"#E5ECF6\",\"width\":0.5},\"pattern\":{\"fillmode\":\"overlay\",\"size\":10,\"solidity\":0.2}},\"type\":\"bar\"}],\"scattergeo\":[{\"type\":\"scattergeo\",\"marker\":{\"colorbar\":{\"outlinewidth\":0,\"ticks\":\"\"}}}],\"scatterpolar\":[{\"type\":\"scatterpolar\",\"marker\":{\"colorbar\":{\"outlinewidth\":0,\"ticks\":\"\"}}}],\"histogram\":[{\"marker\":{\"pattern\":{\"fillmode\":\"overlay\",\"size\":10,\"solidity\":0.2}},\"type\":\"histogram\"}],\"scattergl\":[{\"type\":\"scattergl\",\"marker\":{\"colorbar\":{\"outlinewidth\":0,\"ticks\":\"\"}}}],\"scatter3d\":[{\"type\":\"scatter3d\",\"line\":{\"colorbar\":{\"outlinewidth\":0,\"ticks\":\"\"}},\"marker\":{\"colorbar\":{\"outlinewidth\":0,\"ticks\":\"\"}}}],\"scattermapbox\":[{\"type\":\"scattermapbox\",\"marker\":{\"colorbar\":{\"outlinewidth\":0,\"ticks\":\"\"}}}],\"scatterternary\":[{\"type\":\"scatterternary\",\"marker\":{\"colorbar\":{\"outlinewidth\":0,\"ticks\":\"\"}}}],\"scattercarpet\":[{\"type\":\"scattercarpet\",\"marker\":{\"colorbar\":{\"outlinewidth\":0,\"ticks\":\"\"}}}],\"carpet\":[{\"aaxis\":{\"endlinecolor\":\"#2a3f5f\",\"gridcolor\":\"white\",\"linecolor\":\"white\",\"minorgridcolor\":\"white\",\"startlinecolor\":\"#2a3f5f\"},\"baxis\":{\"endlinecolor\":\"#2a3f5f\",\"gridcolor\":\"white\",\"linecolor\":\"white\",\"minorgridcolor\":\"white\",\"startlinecolor\":\"#2a3f5f\"},\"type\":\"carpet\"}],\"table\":[{\"cells\":{\"fill\":{\"color\":\"#EBF0F8\"},\"line\":{\"color\":\"white\"}},\"header\":{\"fill\":{\"color\":\"#C8D4E3\"},\"line\":{\"color\":\"white\"}},\"type\":\"table\"}],\"barpolar\":[{\"marker\":{\"line\":{\"color\":\"#E5ECF6\",\"width\":0.5},\"pattern\":{\"fillmode\":\"overlay\",\"size\":10,\"solidity\":0.2}},\"type\":\"barpolar\"}],\"pie\":[{\"automargin\":true,\"type\":\"pie\"}]},\"layout\":{\"autotypenumbers\":\"strict\",\"colorway\":[\"#636efa\",\"#EF553B\",\"#00cc96\",\"#ab63fa\",\"#FFA15A\",\"#19d3f3\",\"#FF6692\",\"#B6E880\",\"#FF97FF\",\"#FECB52\"],\"font\":{\"color\":\"#2a3f5f\"},\"hovermode\":\"closest\",\"hoverlabel\":{\"align\":\"left\"},\"paper_bgcolor\":\"white\",\"plot_bgcolor\":\"#E5ECF6\",\"polar\":{\"bgcolor\":\"#E5ECF6\",\"angularaxis\":{\"gridcolor\":\"white\",\"linecolor\":\"white\",\"ticks\":\"\"},\"radialaxis\":{\"gridcolor\":\"white\",\"linecolor\":\"white\",\"ticks\":\"\"}},\"ternary\":{\"bgcolor\":\"#E5ECF6\",\"aaxis\":{\"gridcolor\":\"white\",\"linecolor\":\"white\",\"ticks\":\"\"},\"baxis\":{\"gridcolor\":\"white\",\"linecolor\":\"white\",\"ticks\":\"\"},\"caxis\":{\"gridcolor\":\"white\",\"linecolor\":\"white\",\"ticks\":\"\"}},\"coloraxis\":{\"colorbar\":{\"outlinewidth\":0,\"ticks\":\"\"}},\"colorscale\":{\"sequential\":[[0.0,\"#0d0887\"],[0.1111111111111111,\"#46039f\"],[0.2222222222222222,\"#7201a8\"],[0.3333333333333333,\"#9c179e\"],[0.4444444444444444,\"#bd3786\"],[0.5555555555555556,\"#d8576b\"],[0.6666666666666666,\"#ed7953\"],[0.7777777777777778,\"#fb9f3a\"],[0.8888888888888888,\"#fdca26\"],[1.0,\"#f0f921\"]],\"sequentialminus\":[[0.0,\"#0d0887\"],[0.1111111111111111,\"#46039f\"],[0.2222222222222222,\"#7201a8\"],[0.3333333333333333,\"#9c179e\"],[0.4444444444444444,\"#bd3786\"],[0.5555555555555556,\"#d8576b\"],[0.6666666666666666,\"#ed7953\"],[0.7777777777777778,\"#fb9f3a\"],[0.8888888888888888,\"#fdca26\"],[1.0,\"#f0f921\"]],\"diverging\":[[0,\"#8e0152\"],[0.1,\"#c51b7d\"],[0.2,\"#de77ae\"],[0.3,\"#f1b6da\"],[0.4,\"#fde0ef\"],[0.5,\"#f7f7f7\"],[0.6,\"#e6f5d0\"],[0.7,\"#b8e186\"],[0.8,\"#7fbc41\"],[0.9,\"#4d9221\"],[1,\"#276419\"]]},\"xaxis\":{\"gridcolor\":\"white\",\"linecolor\":\"white\",\"ticks\":\"\",\"title\":{\"standoff\":15},\"zerolinecolor\":\"white\",\"automargin\":true,\"zerolinewidth\":2},\"yaxis\":{\"gridcolor\":\"white\",\"linecolor\":\"white\",\"ticks\":\"\",\"title\":{\"standoff\":15},\"zerolinecolor\":\"white\",\"automargin\":true,\"zerolinewidth\":2},\"scene\":{\"xaxis\":{\"backgroundcolor\":\"#E5ECF6\",\"gridcolor\":\"white\",\"linecolor\":\"white\",\"showbackground\":true,\"ticks\":\"\",\"zerolinecolor\":\"white\",\"gridwidth\":2},\"yaxis\":{\"backgroundcolor\":\"#E5ECF6\",\"gridcolor\":\"white\",\"linecolor\":\"white\",\"showbackground\":true,\"ticks\":\"\",\"zerolinecolor\":\"white\",\"gridwidth\":2},\"zaxis\":{\"backgroundcolor\":\"#E5ECF6\",\"gridcolor\":\"white\",\"linecolor\":\"white\",\"showbackground\":true,\"ticks\":\"\",\"zerolinecolor\":\"white\",\"gridwidth\":2}},\"shapedefaults\":{\"line\":{\"color\":\"#2a3f5f\"}},\"annotationdefaults\":{\"arrowcolor\":\"#2a3f5f\",\"arrowhead\":0,\"arrowwidth\":1},\"geo\":{\"bgcolor\":\"white\",\"landcolor\":\"#E5ECF6\",\"subunitcolor\":\"white\",\"showland\":true,\"showlakes\":true,\"lakecolor\":\"white\"},\"title\":{\"x\":0.05},\"mapbox\":{\"style\":\"light\"}}},\"xaxis\":{\"anchor\":\"y\",\"domain\":[0.0,0.45]},\"yaxis\":{\"anchor\":\"x\",\"domain\":[0.625,1.0]},\"xaxis2\":{\"anchor\":\"y2\",\"domain\":[0.55,1.0]},\"yaxis2\":{\"anchor\":\"x2\",\"domain\":[0.625,1.0]},\"xaxis3\":{\"anchor\":\"y3\",\"domain\":[0.0,0.45]},\"yaxis3\":{\"anchor\":\"x3\",\"domain\":[0.0,0.375]},\"xaxis4\":{\"anchor\":\"y4\",\"domain\":[0.55,1.0]},\"yaxis4\":{\"anchor\":\"x4\",\"domain\":[0.0,0.375]},\"annotations\":[{\"font\":{\"size\":16},\"showarrow\":false,\"text\":\"Total Nett Margin by Branch\",\"x\":0.225,\"xanchor\":\"center\",\"xref\":\"paper\",\"y\":1.0,\"yanchor\":\"bottom\",\"yref\":\"paper\"},{\"font\":{\"size\":16},\"showarrow\":false,\"text\":\"Total Nett Margin by Product\",\"x\":0.775,\"xanchor\":\"center\",\"xref\":\"paper\",\"y\":1.0,\"yanchor\":\"bottom\",\"yref\":\"paper\"},{\"font\":{\"size\":16},\"showarrow\":false,\"text\":\"Total Nett Margin by Plant\",\"x\":0.225,\"xanchor\":\"center\",\"xref\":\"paper\",\"y\":0.375,\"yanchor\":\"bottom\",\"yref\":\"paper\"},{\"font\":{\"size\":16},\"showarrow\":false,\"text\":\"Total Nett Margin Combined\",\"x\":0.775,\"xanchor\":\"center\",\"xref\":\"paper\",\"y\":0.375,\"yanchor\":\"bottom\",\"yref\":\"paper\"}],\"title\":{\"text\":\"Total Nett Margin Analysis\"},\"showlegend\":false,\"height\":1000,\"width\":1000},                        {\"responsive\": true}                    ).then(function(){\n",
       "                            \n",
       "var gd = document.getElementById('769ae0c1-426d-48fe-892d-9ac24f5e2e63');\n",
       "var x = new MutationObserver(function (mutations, observer) {{\n",
       "        var display = window.getComputedStyle(gd).display;\n",
       "        if (!display || display === 'none') {{\n",
       "            console.log([gd, 'removed!']);\n",
       "            Plotly.purge(gd);\n",
       "            observer.disconnect();\n",
       "        }}\n",
       "}});\n",
       "\n",
       "// Listen for the removal of the full notebook cells\n",
       "var notebookContainer = gd.closest('#notebook-container');\n",
       "if (notebookContainer) {{\n",
       "    x.observe(notebookContainer, {childList: true});\n",
       "}}\n",
       "\n",
       "// Listen for the clearing of the current output cell\n",
       "var outputEl = gd.closest('.output');\n",
       "if (outputEl) {{\n",
       "    x.observe(outputEl, {childList: true});\n",
       "}}\n",
       "\n",
       "                        })                };                });            </script>        </div>"
      ]
     },
     "metadata": {},
     "output_type": "display_data"
    }
   ],
   "source": [
    "#create combined grand totals DataFrame\n",
    "combined_grand_totals = pd.DataFrame({\n",
    "    'Category': ['Branches', 'Products', 'Plants'],\n",
    "    'Total Nett Margin': [branch_totals['Total Nett Margin'].sum(), product_totals['Total Nett Margin'].sum(), plant_totals['Total Nett Margin'].sum()]\n",
    "})\n",
    "\n",
    "#create subplots and bar plots to subplots\n",
    "fig = make_subplots(rows=2, cols=2, subplot_titles=('Total Nett Margin by Branch', 'Total Nett Margin by Product', 'Total Nett Margin by Plant', 'Total Nett Margin Combined'))\n",
    "fig.add_trace(go.Bar(x=branch_totals['Branch'], y=branch_totals['Total Nett Margin'], name='Branch'), row=1, col=1)\n",
    "fig.add_trace(go.Bar(x=product_totals['Product'], y=product_totals['Total Nett Margin'], name='Product'), row=1, col=2)\n",
    "fig.add_trace(go.Bar(x=plant_totals['Plant'], y=plant_totals['Total Nett Margin'], name='Plant'), row=2, col=1)\n",
    "fig.add_trace(go.Bar(x=combined_grand_totals['Category'], y=combined_grand_totals['Total Nett Margin'], name='Combined'), row=2, col=2)\n",
    "\n",
    "#Update layout\n",
    "fig.update_layout(title_text='Total Nett Margin Analysis', showlegend=False, height=1000, width=1000)\n",
    "fig.show()"
   ]
  },
  {
   "cell_type": "code",
   "execution_count": null,
   "id": "684f74e1-326e-411b-b4de-6babcda27b41",
   "metadata": {},
   "outputs": [],
   "source": []
  }
 ],
 "metadata": {
  "kernelspec": {
   "display_name": "Python 3 (ipykernel)",
   "language": "python",
   "name": "python3"
  },
  "language_info": {
   "codemirror_mode": {
    "name": "ipython",
    "version": 3
   },
   "file_extension": ".py",
   "mimetype": "text/x-python",
   "name": "python",
   "nbconvert_exporter": "python",
   "pygments_lexer": "ipython3",
   "version": "3.11.9"
  }
 },
 "nbformat": 4,
 "nbformat_minor": 5
}
